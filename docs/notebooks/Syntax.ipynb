{
 "cells": [
  {
   "cell_type": "code",
   "execution_count": 1,
   "metadata": {},
   "outputs": [],
   "source": [
    "from kamodo.kamodo import Kamodo"
   ]
  },
  {
   "cell_type": "markdown",
   "metadata": {},
   "source": [
    "## LaTeX support\n",
    "Kamodo supports both python and LaTex-formatted expressions as input. For LaTeX, you must wrap your expression in ```$ $```:"
   ]
  },
  {
   "cell_type": "code",
   "execution_count": 2,
   "metadata": {},
   "outputs": [
    {
     "data": {
      "text/latex": [
       "\\begin{equation}f{\\left(x,y \\right)} = x^{2} + y^{2}\\end{equation} \\begin{equation}g{\\left(x,y \\right)} = 2 x^{2} + 3 y^{2}\\end{equation}"
      ],
      "text/plain": [
       "{f(x, y): <function _lambdifygenerated at 0x10d5a8ae0>, f: <function _lambdifygenerated at 0x10d5a8ae0>, g(x, y): <function _lambdifygenerated at 0x13c7b2520>, g: <function _lambdifygenerated at 0x13c7b2520>}"
      ]
     },
     "execution_count": 2,
     "metadata": {},
     "output_type": "execute_result"
    }
   ],
   "source": [
    "Kamodo(f = 'x**2 + y**2', g = '$2x^2 + 3y^2$')"
   ]
  },
  {
   "cell_type": "markdown",
   "metadata": {},
   "source": [
    "## Conventions\n",
    "Kamodo's variable names have to follow python's naming conventions - only numbers, letters, and underscores, which are too restrictive for mathematical symbols. Therefore, Kamodo uses sympy's conventions when generating LaTeX from variable names, which provide a means to write mathematical symbols in a way ammenable to python. More details of sympy's parsing may be found [here](https://docs.sympy.org/latest/modules/parsing.html). Kamodo also adds some additional features not covered by sympy.\n",
    "\n",
    "### Superscripts/Subscripts\n",
    "\n",
    "Subscripts are encoded with single underscores. Superscripts are encoded with double underscores. Combinations are possible."
   ]
  },
  {
   "cell_type": "code",
   "execution_count": 3,
   "metadata": {},
   "outputs": [
    {
     "data": {
      "text/latex": [
       "\\begin{equation}\\operatorname{x_{i}}{\\left(a \\right)} = a\\end{equation} \\begin{equation}\\operatorname{y^{j}}{\\left(b \\right)} = b\\end{equation} \\begin{equation}\\operatorname{z^{2}_{oxygen}}{\\left(c \\right)} = c\\end{equation}"
      ],
      "text/plain": [
       "{x_i(a): <function _lambdifygenerated at 0x10d5a8540>, x_i: <function _lambdifygenerated at 0x10d5a8540>, y__j(b): <function _lambdifygenerated at 0x13c92fd80>, y__j: <function _lambdifygenerated at 0x13c92fd80>, z_oxygen__2(c): <function _lambdifygenerated at 0x13cae2160>, z_oxygen__2: <function _lambdifygenerated at 0x13cae2160>}"
      ]
     },
     "execution_count": 3,
     "metadata": {},
     "output_type": "execute_result"
    }
   ],
   "source": [
    "Kamodo('x_i = a', 'y__j = b', 'z_oxygen__2 = c')"
   ]
  },
  {
   "cell_type": "markdown",
   "metadata": {},
   "source": [
    "### Greek letters\n",
    "Most greek letters are supported using their corresponding english name. Use capitalization if the greek letter should also be capitalized. "
   ]
  },
  {
   "cell_type": "code",
   "execution_count": 4,
   "metadata": {},
   "outputs": [
    {
     "data": {
      "text/latex": [
       "\\begin{equation}\\rho{\\left(\\alpha,\\beta,\\Gamma \\right)} = \\alpha + \\beta + \\Gamma\\end{equation}"
      ],
      "text/plain": [
       "{rho(ALPHA, BETA, Gamma): <function _lambdifygenerated at 0x13cae2840>, rho: <function _lambdifygenerated at 0x13cae2840>}"
      ]
     },
     "execution_count": 4,
     "metadata": {},
     "output_type": "execute_result"
    }
   ],
   "source": [
    "Kamodo(rho = 'ALPHA+BETA+Gamma')"
   ]
  },
  {
   "cell_type": "markdown",
   "metadata": {},
   "source": [
    "!!! warning\n",
    "    Some greek letters (e.g. pi, zeta) may conflict with Sympy's namespace. In that case, use all caps (e.g. PI, ZETA)"
   ]
  },
  {
   "cell_type": "markdown",
   "metadata": {},
   "source": [
    "### plus/minus operators\n",
    "\n",
    "In Python we cannot have variables embedded with ```+``` or ```-```, but we may still need these symbols to represent, say ionization or simulation time step. The table below shows how we map from (part of) a variable name to its corresponding latex output."
   ]
  },
  {
   "cell_type": "markdown",
   "metadata": {},
   "source": [
    "variable | to latex\n",
    "------------ | ------------- \n",
    "plus | + \n",
    "minus | -\n",
    "comma | ,\n",
    "LEFT | \\\\\\left (\n",
    "RIGHT | \\\\\\right )\n",
    "prime | '"
   ]
  },
  {
   "cell_type": "markdown",
   "metadata": {},
   "source": [
    "Here is how you would use these in your functions:"
   ]
  },
  {
   "cell_type": "code",
   "execution_count": 5,
   "metadata": {},
   "outputs": [
    {
     "data": {
      "text/latex": [
       "\\begin{equation}\\operatorname{x_{i+1}}{\\left(x_{i} \\right)} = 0.9 x_{i}\\end{equation} \\begin{equation}\\operatorname{O^{-}}{\\left(e,h \\right)} = e^{- h}\\end{equation} \\begin{equation}\\operatorname{O\\left (3P\\right )}{\\left(t \\right)} = t\\end{equation} \\begin{equation}\\operatorname{{f}'}{\\left(x \\right)} = x\\end{equation}"
      ],
      "text/plain": [
       "{x_iplus1(x_i): <function _lambdifygenerated at 0x13cae23e0>, x_iplus1: <function _lambdifygenerated at 0x13cae23e0>, O__minus(e, h): <function _lambdifygenerated at 0x13cae37e0>, O__minus: <function _lambdifygenerated at 0x13cae37e0>, OLEFT3PRIGHT(t): <function _lambdifygenerated at 0x13cae2b60>, OLEFT3PRIGHT: <function _lambdifygenerated at 0x13cae2b60>, fprime(x): <function _lambdifygenerated at 0x13cae3ba0>, fprime: <function _lambdifygenerated at 0x13cae3ba0>}"
      ]
     },
     "execution_count": 5,
     "metadata": {},
     "output_type": "execute_result"
    }
   ],
   "source": [
    "Kamodo(x_iplus1 = 'x_i*.9', O__minus = 'e**-h', OLEFT3PRIGHT = 't', fprime = 'x')"
   ]
  },
  {
   "cell_type": "markdown",
   "metadata": {},
   "source": [
    "### Bold font\n",
    "\n",
    "Use the `bm` suffix to make a variable bold face"
   ]
  },
  {
   "cell_type": "code",
   "execution_count": 6,
   "metadata": {},
   "outputs": [
    {
     "data": {
      "text/latex": [
       "\\begin{equation}\\boldsymbol{G}{\\left(x \\right)} = x\\end{equation} \\begin{equation}g{\\left(y \\right)} = y\\end{equation}"
      ],
      "text/plain": [
       "{Gbm(x): <function _lambdifygenerated at 0x13cae3f60>, Gbm: <function _lambdifygenerated at 0x13cae3f60>, g(y): <function _lambdifygenerated at 0x10d5a8b80>, g: <function _lambdifygenerated at 0x10d5a8b80>}"
      ]
     },
     "execution_count": 6,
     "metadata": {},
     "output_type": "execute_result"
    }
   ],
   "source": [
    "Kamodo(Gbm='x', g='y')"
   ]
  },
  {
   "cell_type": "markdown",
   "metadata": {},
   "source": [
    "### Vectors"
   ]
  },
  {
   "cell_type": "markdown",
   "metadata": {},
   "source": [
    "Use the `vec` suffix to place $\\vec{}$ above the preceding symbol. The $\\hat{}$ symbol works similarly."
   ]
  },
  {
   "cell_type": "code",
   "execution_count": 7,
   "metadata": {},
   "outputs": [
    {
     "data": {
      "text/latex": [
       "\\begin{equation}\\vec{f}{\\left(\\vec{r} \\right)} = - \\vec{r}\\end{equation} \\begin{equation}\\hat{b}{\\left(x \\right)} = x\\end{equation}"
      ],
      "text/plain": [
       "{fvec(rvec): <function _lambdifygenerated at 0x13cae2660>, fvec: <function _lambdifygenerated at 0x13cae2660>, bhat(x): <function _lambdifygenerated at 0x13cae3b00>, bhat: <function _lambdifygenerated at 0x13cae3b00>}"
      ]
     },
     "execution_count": 7,
     "metadata": {},
     "output_type": "execute_result"
    }
   ],
   "source": [
    "Kamodo(fvec='-rvec', bhat='x')"
   ]
  },
  {
   "cell_type": "markdown",
   "metadata": {},
   "source": [
    "## Variable reuse"
   ]
  },
  {
   "cell_type": "markdown",
   "metadata": {},
   "source": [
    "Variables may only have one function representing their evaluation. If you try to define a variable twice, the second version will override the first. However, if you want to represent that variable in a different context but keep using its name, there are two options:\n",
    "\n",
    "1. Annotation - add superscripts/subscripts to distinguish between the different implentations.\n",
    "2. Mimicry - use a new name that produces the same LaTeX output. "
   ]
  },
  {
   "cell_type": "code",
   "execution_count": 8,
   "metadata": {},
   "outputs": [
    {
     "data": {
      "text/latex": [
       "\\begin{equation}\\rho{\\left(x,y,z \\right)} = x + y + z\\end{equation} \\begin{equation}\\rho{\\left(\\phi,r,\\theta \\right)} = r \\sin{\\left(\\theta \\right)} \\cos{\\left(\\phi \\right)}\\end{equation} \\begin{equation}\\rho_{2D}{\\left(x,y \\right)} = x + y\\end{equation}"
      ],
      "text/plain": [
       "{rho(x, y, z): <function _lambdifygenerated at 0x13cb4ccc0>, rho: <function _lambdifygenerated at 0x13cb4ccc0>, RHO(phi, r, theta): <function _lambdifygenerated at 0x13cb4c860>, RHO: <function _lambdifygenerated at 0x13cb4c860>, rho_2D(x, y): <function _lambdifygenerated at 0x13cae1440>, rho_2D: <function _lambdifygenerated at 0x13cae1440>}"
      ]
     },
     "execution_count": 8,
     "metadata": {},
     "output_type": "execute_result"
    }
   ],
   "source": [
    "Kamodo(rho = 'x + y + z', RHO = 'r*sin(theta)*cos(phi)', rho_2D = 'x + y')"
   ]
  },
  {
   "cell_type": "markdown",
   "metadata": {},
   "source": [
    "!!! warning\n",
    "    Mimicry can cause confusion if the signature of the left-hand-side does not change, as in the example below:"
   ]
  },
  {
   "cell_type": "code",
   "execution_count": 9,
   "metadata": {},
   "outputs": [
    {
     "data": {
      "text/latex": [
       "\\begin{equation}\\rho{\\left(x,y \\right)} = x + y\\end{equation} \\begin{equation}\\rho{\\left(x,y \\right)} = 3 x + y\\end{equation}"
      ],
      "text/plain": [
       "{rho(x, y): <function _lambdifygenerated at 0x13cb4efc0>, rho: <function _lambdifygenerated at 0x13cb4efc0>, RHO(x, y): <function _lambdifygenerated at 0x13cb4f420>, RHO: <function _lambdifygenerated at 0x13cb4f420>}"
      ]
     },
     "execution_count": 9,
     "metadata": {},
     "output_type": "execute_result"
    }
   ],
   "source": [
    "Kamodo(rho = 'x + y', RHO = '3*x + y')"
   ]
  }
 ],
 "metadata": {
  "kernelspec": {
   "display_name": "Python 3 (ipykernel)",
   "language": "python",
   "name": "python3"
  },
  "language_info": {
   "codemirror_mode": {
    "name": "ipython",
    "version": 3
   },
   "file_extension": ".py",
   "mimetype": "text/x-python",
   "name": "python",
   "nbconvert_exporter": "python",
   "pygments_lexer": "ipython3",
   "version": "3.11.5"
  }
 },
 "nbformat": 4,
 "nbformat_minor": 4
}
