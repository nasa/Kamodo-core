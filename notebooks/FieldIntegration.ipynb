{
 "cells": [
  {
   "cell_type": "markdown",
   "metadata": {},
   "source": [
    "# Field Integration Techniques\n",
    "\n",
    "Many analysis techniques for vector fields require solving an initial value problem for an arbitrary set of seed points and evaluating such solutions at a chosen resolution. Kamodo makes it easy to generate fieldline solutions by providing a function decorator that wraps scipy's powerful `solve_ivp` function. Each family of solutions is represented by a single function of a complex parameter. We illustrate the flexibility of this approach in the example below."
   ]
  },
  {
   "cell_type": "code",
   "execution_count": 1,
   "metadata": {},
   "outputs": [
    {
     "data": {
      "text/html": [
       "        <script type=\"text/javascript\">\n",
       "        window.PlotlyConfig = {MathJaxConfig: 'local'};\n",
       "        if (window.MathJax && window.MathJax.Hub && window.MathJax.Hub.Config) {window.MathJax.Hub.Config({SVG: {font: \"STIX-Web\"}});}\n",
       "        if (typeof require !== 'undefined') {\n",
       "        require.undef(\"plotly\");\n",
       "        requirejs.config({\n",
       "            paths: {\n",
       "                'plotly': ['https://cdn.plot.ly/plotly-2.25.2.min']\n",
       "            }\n",
       "        });\n",
       "        require(['plotly'], function(Plotly) {\n",
       "            window._Plotly = Plotly;\n",
       "        });\n",
       "        }\n",
       "        </script>\n",
       "        "
      ]
     },
     "metadata": {},
     "output_type": "display_data"
    }
   ],
   "source": [
    "# initialize\n",
    "from plotly.offline import iplot, plot, init_notebook_mode\n",
    "init_notebook_mode(connected = True)\n",
    "\n",
    "from kamodo import Kamodo, event, pointlike, kamodofy, solve\n",
    "import numpy as np\n",
    "import pandas as pd"
   ]
  },
  {
   "cell_type": "markdown",
   "metadata": {},
   "source": [
    "## Dipole field model\n",
    "\n",
    "We use the following dipole field model that can accept (m,) and (1,m), and (n,m) arrays."
   ]
  },
  {
   "cell_type": "code",
   "execution_count": 2,
   "metadata": {},
   "outputs": [],
   "source": [
    "def Bdip(rvec):\n",
    "    \"\"\"Need math to work in a variety of arg shapes\"\"\"\n",
    "    muvec = Bdip.muvec    \n",
    "    r = np.linalg.norm(rvec, axis = 1)\n",
    "    r[r==0] = np.nan\n",
    "\n",
    "    try:\n",
    "        rhat = rvec/r\n",
    "    except:\n",
    "        rhat = (rvec.T/r).T\n",
    "\n",
    "    try:\n",
    "        result = 3*np.dot(rhat, muvec.T)\n",
    "    except:\n",
    "        result = 3*np.dot(rhat.T, muvec.T).T\n",
    "\n",
    "\n",
    "    result = (rhat.T*result).T\n",
    "\n",
    "    try:\n",
    "        result = result - muvec\n",
    "    except:\n",
    "        result = (result - muvec.T).T\n",
    "\n",
    "    try:\n",
    "        result = result/r**3\n",
    "    except:\n",
    "        result = (result.T/r**3).T\n",
    "\n",
    "    return result\n",
    "\n",
    "# set dipole moment\n",
    "Bdip.muvec = np.array([0, 0, -1]) \n",
    "\n",
    "# pointlike enforces dimensionality\n",
    "Bdip = pointlike(Bdip, '(n,m)->(n,m)', [float], squeeze = 0)"
   ]
  },
  {
   "cell_type": "code",
   "execution_count": 3,
   "metadata": {},
   "outputs": [],
   "source": [
    "kamodo = Kamodo()"
   ]
  },
  {
   "cell_type": "code",
   "execution_count": 4,
   "metadata": {},
   "outputs": [
    {
     "data": {
      "text/latex": [
       "\\begin{equation}\\vec{B}{\\left(\\vec{r} \\right)} = \\lambda{\\left(\\vec{r} \\right)}\\end{equation}"
      ],
      "text/plain": [
       "{Bvec(rvec): <function Bdip at 0x13a5e4cc0>, Bvec: <function Bdip at 0x13a5e4cc0>}"
      ]
     },
     "execution_count": 4,
     "metadata": {},
     "output_type": "execute_result"
    }
   ],
   "source": [
    "kamodo['Bvec'] = Bdip # register the dipole field\n",
    "kamodo"
   ]
  },
  {
   "cell_type": "markdown",
   "metadata": {},
   "source": [
    "Bvec works on a list of points and on individual points"
   ]
  },
  {
   "cell_type": "code",
   "execution_count": 5,
   "metadata": {},
   "outputs": [
    {
     "data": {
      "text/plain": [
       "array([[ 0.   ,  0.   ,  1.   ],\n",
       "       [ 0.   ,  0.   ,  0.125],\n",
       "       [-0.   , -0.   , -2.   ],\n",
       "       [-0.   , -0.   , -0.25 ]])"
      ]
     },
     "execution_count": 5,
     "metadata": {},
     "output_type": "execute_result"
    }
   ],
   "source": [
    "kamodo.Bvec([[1,0,0], # x,y,z\n",
    "             [2,0,0],\n",
    "             [0,0,1],\n",
    "             [0,0,2],])"
   ]
  },
  {
   "cell_type": "code",
   "execution_count": 6,
   "metadata": {},
   "outputs": [
    {
     "data": {
      "text/plain": [
       "array([0., 0., 1.])"
      ]
     },
     "execution_count": 6,
     "metadata": {},
     "output_type": "execute_result"
    }
   ],
   "source": [
    "kamodo.Bvec([1,0,0])"
   ]
  },
  {
   "cell_type": "markdown",
   "metadata": {},
   "source": [
    "## Normalization\n",
    "\n",
    "Instead of solving the initial value problem on the original field, we will be solving on the normalized field. This will mean that the integral path is the same as the arclength, allowing us to control the visual fidelity of the resulting field."
   ]
  },
  {
   "cell_type": "markdown",
   "metadata": {},
   "source": [
    "Create a normalization function to be applied to our field"
   ]
  },
  {
   "cell_type": "code",
   "execution_count": 7,
   "metadata": {},
   "outputs": [],
   "source": [
    "@kamodofy(equation = \"\\\\vec{y}/\\\\sqrt{\\\\vec{y} \\\\cdot \\\\vec{y}}\")\n",
    "@pointlike(signature = '(m,n)->(m,n)', squeeze = 0)\n",
    "def normalized(yvec):   \n",
    "    r = np.linalg.norm(yvec, axis = 1)\n",
    "    r[r==0] = np.nan\n",
    "\n",
    "    try:\n",
    "        return yvec/r\n",
    "    except:\n",
    "        return (yvec.T/r).T\n",
    "\n",
    "\n",
    "kamodo['nhat'] = normalized"
   ]
  },
  {
   "cell_type": "markdown",
   "metadata": {},
   "source": [
    "Create a normalized field"
   ]
  },
  {
   "cell_type": "code",
   "execution_count": 8,
   "metadata": {},
   "outputs": [
    {
     "data": {
      "text/latex": [
       "\\begin{equation}\\vec{B}{\\left(\\vec{r} \\right)} = \\lambda{\\left(\\vec{r} \\right)}\\end{equation} \\begin{equation}\\hat{n}{\\left(\\vec{y} \\right)} = \\vec{y}/\\sqrt{\\vec{y} \\cdot \\vec{y}}\\end{equation} \\begin{equation}\\hat{b}{\\left(\\vec{r} \\right)} = \\hat{n}{\\left(\\vec{B}{\\left(\\vec{r} \\right)} \\right)}\\end{equation}"
      ],
      "text/plain": [
       "{Bvec(rvec): <function Bdip at 0x13a5e4cc0>, Bvec: <function Bdip at 0x13a5e4cc0>, nhat(yvec): <function normalized at 0x13a5e65c0>, nhat: <function normalized at 0x13a5e65c0>, bhat(rvec): <function _lambdifygenerated at 0x13a5e6d40>, bhat: <function _lambdifygenerated at 0x13a5e6d40>}"
      ]
     },
     "execution_count": 8,
     "metadata": {},
     "output_type": "execute_result"
    }
   ],
   "source": [
    "kamodo['bhat'] = \"nhat(Bvec)\"\n",
    "kamodo"
   ]
  },
  {
   "cell_type": "code",
   "execution_count": 9,
   "metadata": {},
   "outputs": [
    {
     "data": {
      "text/plain": [
       "array([[ 0.,  0.,  1.],\n",
       "       [ 0.,  0.,  1.],\n",
       "       [-0., -0., -1.],\n",
       "       [-0., -0., -1.]])"
      ]
     },
     "execution_count": 9,
     "metadata": {},
     "output_type": "execute_result"
    }
   ],
   "source": [
    "kamodo.bhat([[1,0,0], # x,y,z\n",
    "             [2,0,0],\n",
    "             [0,0,1],\n",
    "             [0,0,2]])"
   ]
  },
  {
   "cell_type": "markdown",
   "metadata": {},
   "source": [
    "## Solving the initial value problem"
   ]
  },
  {
   "cell_type": "markdown",
   "metadata": {},
   "source": [
    "Generate a set of seed points for integration"
   ]
  },
  {
   "cell_type": "code",
   "execution_count": 10,
   "metadata": {},
   "outputs": [],
   "source": [
    "x0 = np.linspace(-np.pi,np.pi,6)\n",
    "y0 = np.linspace(-np.pi,np.pi,6)\n",
    "z0 = 1\n",
    "\n",
    "seeds = np.array(np.column_stack([c.ravel() for c in np.meshgrid(x0,y0,z0)]))"
   ]
  },
  {
   "cell_type": "markdown",
   "metadata": {},
   "source": [
    "Create a stopping boundary for field line integrator"
   ]
  },
  {
   "cell_type": "code",
   "execution_count": 11,
   "metadata": {},
   "outputs": [],
   "source": [
    "@event\n",
    "def boundary(s, rvec):\n",
    "    r = np.linalg.norm(rvec)\n",
    "    \n",
    "    if np.isnan(r):\n",
    "        result = 0\n",
    "    else:\n",
    "        result = r - 1\n",
    "    return result\n"
   ]
  },
  {
   "cell_type": "markdown",
   "metadata": {},
   "source": [
    "Solve the initial value problem for the normalized field"
   ]
  },
  {
   "cell_type": "code",
   "execution_count": 12,
   "metadata": {},
   "outputs": [
    {
     "data": {
      "text/latex": [
       "\\begin{equation}\\vec{B}{\\left(\\vec{r} \\right)} = \\lambda{\\left(\\vec{r} \\right)}\\end{equation} \\begin{equation}\\hat{n}{\\left(\\vec{y} \\right)} = \\vec{y}/\\sqrt{\\vec{y} \\cdot \\vec{y}}\\end{equation} \\begin{equation}\\hat{b}{\\left(\\vec{r} \\right)} = \\hat{n}{\\left(\\vec{B}{\\left(\\vec{r} \\right)} \\right)}\\end{equation} \\begin{equation}\\vec{s}{\\left(s \\right)} = \\lambda{\\left(s \\right)}\\end{equation}"
      ],
      "text/plain": [
       "{Bvec(rvec): <function Bdip at 0x13a5e4cc0>, Bvec: <function Bdip at 0x13a5e4cc0>, nhat(yvec): <function normalized at 0x13a5e65c0>, nhat: <function normalized at 0x13a5e65c0>, bhat(rvec): <function _lambdifygenerated at 0x13a5e6d40>, bhat: <function _lambdifygenerated at 0x13a5e6d40>, svec(s): <function solve.<locals>.decorator_solve.<locals>.solution at 0x13a5e7740>, svec: <function solve.<locals>.decorator_solve.<locals>.solution at 0x13a5e7740>}"
      ]
     },
     "execution_count": 12,
     "metadata": {},
     "output_type": "execute_result"
    }
   ],
   "source": [
    "kamodo['svec'] = solve(kamodo.bhat, # the field to be solved\n",
    "                       seeds, # the initial positions\n",
    "                       's', # the name of the integration parameter\n",
    "                       (0,30), # the span to integrate over\n",
    "                       npoints = 60, # the number of points to evaluate the solution\n",
    "                       events = boundary, # stop at the boundary\n",
    "                      )\n",
    "kamodo"
   ]
  },
  {
   "cell_type": "markdown",
   "metadata": {},
   "source": [
    "The solver returns a family of solutions, represented as a single function of a complex array, $\\vec{s}(s)$ where\n",
    "$s$ is a complex array. "
   ]
  },
  {
   "cell_type": "markdown",
   "metadata": {},
   "source": [
    "## Evaluating the Solutions\n",
    "On evaluation, $\\vec{s}(s)$ returns a pandas dataframe."
   ]
  },
  {
   "cell_type": "code",
   "execution_count": 13,
   "metadata": {},
   "outputs": [
    {
     "data": {
      "text/html": [
       "<div>\n",
       "<style scoped>\n",
       "    .dataframe tbody tr th:only-of-type {\n",
       "        vertical-align: middle;\n",
       "    }\n",
       "\n",
       "    .dataframe tbody tr th {\n",
       "        vertical-align: top;\n",
       "    }\n",
       "\n",
       "    .dataframe thead th {\n",
       "        text-align: right;\n",
       "    }\n",
       "</style>\n",
       "<table border=\"1\" class=\"dataframe\">\n",
       "  <thead>\n",
       "    <tr style=\"text-align: right;\">\n",
       "      <th></th>\n",
       "      <th></th>\n",
       "      <th>0</th>\n",
       "      <th>1</th>\n",
       "      <th>2</th>\n",
       "    </tr>\n",
       "    <tr>\n",
       "      <th>seed</th>\n",
       "      <th>integral</th>\n",
       "      <th></th>\n",
       "      <th></th>\n",
       "      <th></th>\n",
       "    </tr>\n",
       "  </thead>\n",
       "  <tbody>\n",
       "    <tr>\n",
       "      <th rowspan=\"5\" valign=\"top\">0.0</th>\n",
       "      <th>-6.610169</th>\n",
       "      <td>-0.347547</td>\n",
       "      <td>-0.347547</td>\n",
       "      <td>-0.924155</td>\n",
       "    </tr>\n",
       "    <tr>\n",
       "      <th>-6.101695</th>\n",
       "      <td>-0.615886</td>\n",
       "      <td>-0.615886</td>\n",
       "      <td>-1.261575</td>\n",
       "    </tr>\n",
       "    <tr>\n",
       "      <th>-5.593220</th>\n",
       "      <td>-0.922735</td>\n",
       "      <td>-0.922735</td>\n",
       "      <td>-1.525472</td>\n",
       "    </tr>\n",
       "    <tr>\n",
       "      <th>-5.084746</th>\n",
       "      <td>-1.256963</td>\n",
       "      <td>-1.256963</td>\n",
       "      <td>-1.713145</td>\n",
       "    </tr>\n",
       "    <tr>\n",
       "      <th>-4.576271</th>\n",
       "      <td>-1.608411</td>\n",
       "      <td>-1.608411</td>\n",
       "      <td>-1.822192</td>\n",
       "    </tr>\n",
       "  </tbody>\n",
       "</table>\n",
       "</div>"
      ],
      "text/plain": [
       "                       0         1         2\n",
       "seed integral                               \n",
       "0.0  -6.610169 -0.347547 -0.347547 -0.924155\n",
       "     -6.101695 -0.615886 -0.615886 -1.261575\n",
       "     -5.593220 -0.922735 -0.922735 -1.525472\n",
       "     -5.084746 -1.256963 -1.256963 -1.713145\n",
       "     -4.576271 -1.608411 -1.608411 -1.822192"
      ]
     },
     "execution_count": 13,
     "metadata": {},
     "output_type": "execute_result"
    }
   ],
   "source": [
    "kamodo.svec().head()"
   ]
  },
  {
   "cell_type": "markdown",
   "metadata": {},
   "source": [
    "When using the default argument above, the solution evaluates at a resolution of npoints/span, stopping at the boundary."
   ]
  },
  {
   "cell_type": "markdown",
   "metadata": {},
   "source": [
    "## Complex parameterization\n",
    "Kamodo represents the family of solutions to the initial value problem as a single function of a complex array.\n",
    "\n",
    "The floor of the real part of the input parameter corresponds to the original seed array:"
   ]
  },
  {
   "cell_type": "code",
   "execution_count": 14,
   "metadata": {},
   "outputs": [
    {
     "data": {
      "text/plain": [
       "array([[-3.14159265, -3.14159265,  1.        ],\n",
       "       [-1.88495559, -3.14159265,  1.        ],\n",
       "       [-0.62831853, -3.14159265,  1.        ]])"
      ]
     },
     "execution_count": 14,
     "metadata": {},
     "output_type": "execute_result"
    }
   ],
   "source": [
    "kamodo.svec([0,1,2]).values"
   ]
  },
  {
   "cell_type": "markdown",
   "metadata": {},
   "source": [
    "compare with original seeds:"
   ]
  },
  {
   "cell_type": "code",
   "execution_count": 15,
   "metadata": {},
   "outputs": [
    {
     "data": {
      "text/plain": [
       "array([[-3.14159265, -3.14159265,  1.        ],\n",
       "       [-1.88495559, -3.14159265,  1.        ],\n",
       "       [-0.62831853, -3.14159265,  1.        ]])"
      ]
     },
     "execution_count": 15,
     "metadata": {},
     "output_type": "execute_result"
    }
   ],
   "source": [
    "seeds[[0,1,2]]"
   ]
  },
  {
   "cell_type": "markdown",
   "metadata": {},
   "source": [
    "The imaginary part denotes the integral along the corresponding solution. Here, we can choose evaluation points that were not in the original solution. Parameters outside the original span will be extrapolated."
   ]
  },
  {
   "cell_type": "code",
   "execution_count": 16,
   "metadata": {},
   "outputs": [
    {
     "data": {
      "text/html": [
       "<div>\n",
       "<style scoped>\n",
       "    .dataframe tbody tr th:only-of-type {\n",
       "        vertical-align: middle;\n",
       "    }\n",
       "\n",
       "    .dataframe tbody tr th {\n",
       "        vertical-align: top;\n",
       "    }\n",
       "\n",
       "    .dataframe thead th {\n",
       "        text-align: right;\n",
       "    }\n",
       "</style>\n",
       "<table border=\"1\" class=\"dataframe\">\n",
       "  <thead>\n",
       "    <tr style=\"text-align: right;\">\n",
       "      <th></th>\n",
       "      <th></th>\n",
       "      <th>0</th>\n",
       "      <th>1</th>\n",
       "      <th>2</th>\n",
       "    </tr>\n",
       "    <tr>\n",
       "      <th>seed</th>\n",
       "      <th>integral</th>\n",
       "      <th></th>\n",
       "      <th></th>\n",
       "      <th></th>\n",
       "    </tr>\n",
       "  </thead>\n",
       "  <tbody>\n",
       "    <tr>\n",
       "      <th rowspan=\"5\" valign=\"top\">0.0</th>\n",
       "      <th>-6.000</th>\n",
       "      <td>-0.674502</td>\n",
       "      <td>-0.674502</td>\n",
       "      <td>-1.320504</td>\n",
       "    </tr>\n",
       "    <tr>\n",
       "      <th>-5.000</th>\n",
       "      <td>-1.314574</td>\n",
       "      <td>-1.314574</td>\n",
       "      <td>-1.737228</td>\n",
       "    </tr>\n",
       "    <tr>\n",
       "      <th>0.000</th>\n",
       "      <td>-3.141593</td>\n",
       "      <td>-3.141593</td>\n",
       "      <td>1.000000</td>\n",
       "    </tr>\n",
       "    <tr>\n",
       "      <th>5.000</th>\n",
       "      <td>-0.120606</td>\n",
       "      <td>-0.120606</td>\n",
       "      <td>0.491892</td>\n",
       "    </tr>\n",
       "    <tr>\n",
       "      <th>6.000</th>\n",
       "      <td>0.125472</td>\n",
       "      <td>0.125472</td>\n",
       "      <td>-0.393292</td>\n",
       "    </tr>\n",
       "    <tr>\n",
       "      <th rowspan=\"2\" valign=\"top\">4.0</th>\n",
       "      <th>4.000</th>\n",
       "      <td>0.094223</td>\n",
       "      <td>-0.157038</td>\n",
       "      <td>0.481740</td>\n",
       "    </tr>\n",
       "    <tr>\n",
       "      <th>-5.777</th>\n",
       "      <td>0.234804</td>\n",
       "      <td>-0.391340</td>\n",
       "      <td>-0.827054</td>\n",
       "    </tr>\n",
       "  </tbody>\n",
       "</table>\n",
       "</div>"
      ],
      "text/plain": [
       "                      0         1         2\n",
       "seed integral                              \n",
       "0.0  -6.000   -0.674502 -0.674502 -1.320504\n",
       "     -5.000   -1.314574 -1.314574 -1.737228\n",
       "      0.000   -3.141593 -3.141593  1.000000\n",
       "      5.000   -0.120606 -0.120606  0.491892\n",
       "      6.000    0.125472  0.125472 -0.393292\n",
       "4.0   4.000    0.094223 -0.157038  0.481740\n",
       "     -5.777    0.234804 -0.391340 -0.827054"
      ]
     },
     "execution_count": 16,
     "metadata": {},
     "output_type": "execute_result"
    }
   ],
   "source": [
    "kamodo.svec([-6j, -5j, 0, 5j, 6j, 4 + 4j, 4 -5.777j])"
   ]
  },
  {
   "cell_type": "markdown",
   "metadata": {},
   "source": [
    "## Plotting Fieldlines\n",
    "\n",
    "We can quickly generate plots for all fieldlines at the default resolution by calling plot with the name of the fieldlines solution."
   ]
  },
  {
   "cell_type": "code",
   "execution_count": 17,
   "metadata": {},
   "outputs": [],
   "source": [
    "import plotly.io as pio"
   ]
  },
  {
   "cell_type": "code",
   "execution_count": 18,
   "metadata": {},
   "outputs": [],
   "source": [
    "#fig = kamodo.plot('svec')"
   ]
  },
  {
   "cell_type": "code",
   "execution_count": 19,
   "metadata": {},
   "outputs": [],
   "source": [
    "#pio.write_image(fig, './images/fieldlines.svg')"
   ]
  },
  {
   "cell_type": "markdown",
   "metadata": {},
   "source": [
    "![images/fieldlines.svg](images/fieldlines.svg)"
   ]
  },
  {
   "cell_type": "markdown",
   "metadata": {},
   "source": [
    "To show the direction of the field at each point, we can evaluate $\\hat{B}(\\vec{s}(s))$"
   ]
  },
  {
   "cell_type": "code",
   "execution_count": 20,
   "metadata": {},
   "outputs": [],
   "source": [
    "#fig = kamodo.plot('svec', \n",
    "#                  bhat = dict(rvec = kamodo.svec()))\n",
    "#pio.write_image(fig,'./images/fieldlines_vectors.svg')"
   ]
  },
  {
   "cell_type": "markdown",
   "metadata": {},
   "source": [
    "![fieldlines](images/fieldlines_vectors.svg)"
   ]
  },
  {
   "cell_type": "markdown",
   "metadata": {},
   "source": [
    "## Integration totals"
   ]
  },
  {
   "cell_type": "markdown",
   "metadata": {},
   "source": [
    "To compute the total integral for each fieldline individually, we need a function to subtract the integration results at the endpoints."
   ]
  },
  {
   "cell_type": "code",
   "execution_count": 21,
   "metadata": {},
   "outputs": [],
   "source": [
    "def integral(fieldline):\n",
    "    endpoints = fieldline.reset_index().integral.iloc[[0,-1]]\n",
    "    return endpoints.values[-1] - endpoints.values[0]"
   ]
  },
  {
   "cell_type": "code",
   "execution_count": 22,
   "metadata": {},
   "outputs": [
    {
     "data": {
      "text/plain": [
       "[10.677966101694915,\n",
       " 8.64406779661017,\n",
       " 7.627118644067796,\n",
       " 7.627118644067796,\n",
       " 8.64406779661017]"
      ]
     },
     "execution_count": 22,
     "metadata": {},
     "output_type": "execute_result"
    }
   ],
   "source": [
    "totals = []\n",
    "for seed, fieldline in kamodo.svec().groupby(level = 'seed'):\n",
    "    totals.append(integral(fieldline))\n",
    "    \n",
    "totals[:5]"
   ]
  },
  {
   "cell_type": "markdown",
   "metadata": {},
   "source": [
    "Alternatively, we can use pandas' aggregation methods to apply our function on each fieldline."
   ]
  },
  {
   "cell_type": "code",
   "execution_count": 23,
   "metadata": {},
   "outputs": [
    {
     "data": {
      "text/html": [
       "<div>\n",
       "<style scoped>\n",
       "    .dataframe tbody tr th:only-of-type {\n",
       "        vertical-align: middle;\n",
       "    }\n",
       "\n",
       "    .dataframe tbody tr th {\n",
       "        vertical-align: top;\n",
       "    }\n",
       "\n",
       "    .dataframe thead th {\n",
       "        text-align: right;\n",
       "    }\n",
       "</style>\n",
       "<table border=\"1\" class=\"dataframe\">\n",
       "  <thead>\n",
       "    <tr style=\"text-align: right;\">\n",
       "      <th></th>\n",
       "      <th>0</th>\n",
       "      <th>1</th>\n",
       "      <th>2</th>\n",
       "    </tr>\n",
       "    <tr>\n",
       "      <th>seed</th>\n",
       "      <th></th>\n",
       "      <th></th>\n",
       "      <th></th>\n",
       "    </tr>\n",
       "  </thead>\n",
       "  <tbody>\n",
       "    <tr>\n",
       "      <th>0.0</th>\n",
       "      <td>10.677966</td>\n",
       "      <td>10.677966</td>\n",
       "      <td>10.677966</td>\n",
       "    </tr>\n",
       "    <tr>\n",
       "      <th>1.0</th>\n",
       "      <td>8.644068</td>\n",
       "      <td>8.644068</td>\n",
       "      <td>8.644068</td>\n",
       "    </tr>\n",
       "    <tr>\n",
       "      <th>2.0</th>\n",
       "      <td>7.627119</td>\n",
       "      <td>7.627119</td>\n",
       "      <td>7.627119</td>\n",
       "    </tr>\n",
       "    <tr>\n",
       "      <th>3.0</th>\n",
       "      <td>7.627119</td>\n",
       "      <td>7.627119</td>\n",
       "      <td>7.627119</td>\n",
       "    </tr>\n",
       "    <tr>\n",
       "      <th>4.0</th>\n",
       "      <td>8.644068</td>\n",
       "      <td>8.644068</td>\n",
       "      <td>8.644068</td>\n",
       "    </tr>\n",
       "    <tr>\n",
       "      <th>5.0</th>\n",
       "      <td>10.677966</td>\n",
       "      <td>10.677966</td>\n",
       "      <td>10.677966</td>\n",
       "    </tr>\n",
       "    <tr>\n",
       "      <th>6.0</th>\n",
       "      <td>8.644068</td>\n",
       "      <td>8.644068</td>\n",
       "      <td>8.644068</td>\n",
       "    </tr>\n",
       "    <tr>\n",
       "      <th>7.0</th>\n",
       "      <td>6.610169</td>\n",
       "      <td>6.610169</td>\n",
       "      <td>6.610169</td>\n",
       "    </tr>\n",
       "    <tr>\n",
       "      <th>8.0</th>\n",
       "      <td>5.084746</td>\n",
       "      <td>5.084746</td>\n",
       "      <td>5.084746</td>\n",
       "    </tr>\n",
       "    <tr>\n",
       "      <th>9.0</th>\n",
       "      <td>5.084746</td>\n",
       "      <td>5.084746</td>\n",
       "      <td>5.084746</td>\n",
       "    </tr>\n",
       "    <tr>\n",
       "      <th>10.0</th>\n",
       "      <td>6.610169</td>\n",
       "      <td>6.610169</td>\n",
       "      <td>6.610169</td>\n",
       "    </tr>\n",
       "    <tr>\n",
       "      <th>11.0</th>\n",
       "      <td>8.644068</td>\n",
       "      <td>8.644068</td>\n",
       "      <td>8.644068</td>\n",
       "    </tr>\n",
       "    <tr>\n",
       "      <th>12.0</th>\n",
       "      <td>7.627119</td>\n",
       "      <td>7.627119</td>\n",
       "      <td>7.627119</td>\n",
       "    </tr>\n",
       "    <tr>\n",
       "      <th>13.0</th>\n",
       "      <td>5.084746</td>\n",
       "      <td>5.084746</td>\n",
       "      <td>5.084746</td>\n",
       "    </tr>\n",
       "    <tr>\n",
       "      <th>14.0</th>\n",
       "      <td>5.593220</td>\n",
       "      <td>5.593220</td>\n",
       "      <td>5.593220</td>\n",
       "    </tr>\n",
       "    <tr>\n",
       "      <th>15.0</th>\n",
       "      <td>5.593220</td>\n",
       "      <td>5.593220</td>\n",
       "      <td>5.593220</td>\n",
       "    </tr>\n",
       "    <tr>\n",
       "      <th>16.0</th>\n",
       "      <td>5.084746</td>\n",
       "      <td>5.084746</td>\n",
       "      <td>5.084746</td>\n",
       "    </tr>\n",
       "    <tr>\n",
       "      <th>17.0</th>\n",
       "      <td>7.627119</td>\n",
       "      <td>7.627119</td>\n",
       "      <td>7.627119</td>\n",
       "    </tr>\n",
       "    <tr>\n",
       "      <th>18.0</th>\n",
       "      <td>7.627119</td>\n",
       "      <td>7.627119</td>\n",
       "      <td>7.627119</td>\n",
       "    </tr>\n",
       "    <tr>\n",
       "      <th>19.0</th>\n",
       "      <td>5.084746</td>\n",
       "      <td>5.084746</td>\n",
       "      <td>5.084746</td>\n",
       "    </tr>\n",
       "    <tr>\n",
       "      <th>20.0</th>\n",
       "      <td>5.593220</td>\n",
       "      <td>5.593220</td>\n",
       "      <td>5.593220</td>\n",
       "    </tr>\n",
       "    <tr>\n",
       "      <th>21.0</th>\n",
       "      <td>5.593220</td>\n",
       "      <td>5.593220</td>\n",
       "      <td>5.593220</td>\n",
       "    </tr>\n",
       "    <tr>\n",
       "      <th>22.0</th>\n",
       "      <td>5.084746</td>\n",
       "      <td>5.084746</td>\n",
       "      <td>5.084746</td>\n",
       "    </tr>\n",
       "    <tr>\n",
       "      <th>23.0</th>\n",
       "      <td>7.627119</td>\n",
       "      <td>7.627119</td>\n",
       "      <td>7.627119</td>\n",
       "    </tr>\n",
       "    <tr>\n",
       "      <th>24.0</th>\n",
       "      <td>8.644068</td>\n",
       "      <td>8.644068</td>\n",
       "      <td>8.644068</td>\n",
       "    </tr>\n",
       "    <tr>\n",
       "      <th>25.0</th>\n",
       "      <td>6.610169</td>\n",
       "      <td>6.610169</td>\n",
       "      <td>6.610169</td>\n",
       "    </tr>\n",
       "    <tr>\n",
       "      <th>26.0</th>\n",
       "      <td>5.084746</td>\n",
       "      <td>5.084746</td>\n",
       "      <td>5.084746</td>\n",
       "    </tr>\n",
       "    <tr>\n",
       "      <th>27.0</th>\n",
       "      <td>5.084746</td>\n",
       "      <td>5.084746</td>\n",
       "      <td>5.084746</td>\n",
       "    </tr>\n",
       "    <tr>\n",
       "      <th>28.0</th>\n",
       "      <td>6.610169</td>\n",
       "      <td>6.610169</td>\n",
       "      <td>6.610169</td>\n",
       "    </tr>\n",
       "    <tr>\n",
       "      <th>29.0</th>\n",
       "      <td>8.644068</td>\n",
       "      <td>8.644068</td>\n",
       "      <td>8.644068</td>\n",
       "    </tr>\n",
       "    <tr>\n",
       "      <th>30.0</th>\n",
       "      <td>10.677966</td>\n",
       "      <td>10.677966</td>\n",
       "      <td>10.677966</td>\n",
       "    </tr>\n",
       "    <tr>\n",
       "      <th>31.0</th>\n",
       "      <td>8.644068</td>\n",
       "      <td>8.644068</td>\n",
       "      <td>8.644068</td>\n",
       "    </tr>\n",
       "    <tr>\n",
       "      <th>32.0</th>\n",
       "      <td>7.627119</td>\n",
       "      <td>7.627119</td>\n",
       "      <td>7.627119</td>\n",
       "    </tr>\n",
       "    <tr>\n",
       "      <th>33.0</th>\n",
       "      <td>7.627119</td>\n",
       "      <td>7.627119</td>\n",
       "      <td>7.627119</td>\n",
       "    </tr>\n",
       "    <tr>\n",
       "      <th>34.0</th>\n",
       "      <td>8.644068</td>\n",
       "      <td>8.644068</td>\n",
       "      <td>8.644068</td>\n",
       "    </tr>\n",
       "    <tr>\n",
       "      <th>35.0</th>\n",
       "      <td>10.677966</td>\n",
       "      <td>10.677966</td>\n",
       "      <td>10.677966</td>\n",
       "    </tr>\n",
       "  </tbody>\n",
       "</table>\n",
       "</div>"
      ],
      "text/plain": [
       "              0          1          2\n",
       "seed                                 \n",
       "0.0   10.677966  10.677966  10.677966\n",
       "1.0    8.644068   8.644068   8.644068\n",
       "2.0    7.627119   7.627119   7.627119\n",
       "3.0    7.627119   7.627119   7.627119\n",
       "4.0    8.644068   8.644068   8.644068\n",
       "5.0   10.677966  10.677966  10.677966\n",
       "6.0    8.644068   8.644068   8.644068\n",
       "7.0    6.610169   6.610169   6.610169\n",
       "8.0    5.084746   5.084746   5.084746\n",
       "9.0    5.084746   5.084746   5.084746\n",
       "10.0   6.610169   6.610169   6.610169\n",
       "11.0   8.644068   8.644068   8.644068\n",
       "12.0   7.627119   7.627119   7.627119\n",
       "13.0   5.084746   5.084746   5.084746\n",
       "14.0   5.593220   5.593220   5.593220\n",
       "15.0   5.593220   5.593220   5.593220\n",
       "16.0   5.084746   5.084746   5.084746\n",
       "17.0   7.627119   7.627119   7.627119\n",
       "18.0   7.627119   7.627119   7.627119\n",
       "19.0   5.084746   5.084746   5.084746\n",
       "20.0   5.593220   5.593220   5.593220\n",
       "21.0   5.593220   5.593220   5.593220\n",
       "22.0   5.084746   5.084746   5.084746\n",
       "23.0   7.627119   7.627119   7.627119\n",
       "24.0   8.644068   8.644068   8.644068\n",
       "25.0   6.610169   6.610169   6.610169\n",
       "26.0   5.084746   5.084746   5.084746\n",
       "27.0   5.084746   5.084746   5.084746\n",
       "28.0   6.610169   6.610169   6.610169\n",
       "29.0   8.644068   8.644068   8.644068\n",
       "30.0  10.677966  10.677966  10.677966\n",
       "31.0   8.644068   8.644068   8.644068\n",
       "32.0   7.627119   7.627119   7.627119\n",
       "33.0   7.627119   7.627119   7.627119\n",
       "34.0   8.644068   8.644068   8.644068\n",
       "35.0  10.677966  10.677966  10.677966"
      ]
     },
     "execution_count": 23,
     "metadata": {},
     "output_type": "execute_result"
    }
   ],
   "source": [
    "kamodo.svec().groupby(level='seed').aggregate(integral)"
   ]
  }
 ],
 "metadata": {
  "kernelspec": {
   "display_name": "Python 3 (ipykernel)",
   "language": "python",
   "name": "python3"
  },
  "language_info": {
   "codemirror_mode": {
    "name": "ipython",
    "version": 3
   },
   "file_extension": ".py",
   "mimetype": "text/x-python",
   "name": "python",
   "nbconvert_exporter": "python",
   "pygments_lexer": "ipython3",
   "version": "3.11.5"
  }
 },
 "nbformat": 4,
 "nbformat_minor": 4
}
