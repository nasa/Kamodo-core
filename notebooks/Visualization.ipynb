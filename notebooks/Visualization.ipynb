{
 "cells": [
  {
   "cell_type": "markdown",
   "metadata": {
    "slideshow": {
     "slide_type": "slide"
    }
   },
   "source": [
    "## Visualization \n",
    "\n",
    "### Overview\n",
    "\n",
    "Visualization poses a significant challenge for the space weather community: output from models and data are very domain-specific, both in content (coordinate systems, units) and in representation (file formats and data structures). On the other hand, science users also have their preferred context for analyzing these results - for instance, they may only want simulation results interpolated on a satellite trajectory and in a specific coordinate system with their own prefered units.\n",
    "\n",
    "Kamodo aims to strike a balance between the intent of the model (or data) provider and the goals of the user, by making it easy for developers to provide context for their output and for users to easily change that context. It accomplishes this in two ways:\n",
    "\n",
    "* By leveraging default arguments given by model and data providers \n",
    "* By mapping the shape of function inputs and output to certain registered plot types\n",
    "\n",
    "This strategy allows Kamodo to automatically generate plots for arbitrary model output and data sources, while still allowing for customization by the end user."
   ]
  },
  {
   "cell_type": "markdown",
   "metadata": {
    "slideshow": {
     "slide_type": "subslide"
    }
   },
   "source": [
    "### Available Plot Types\n",
    "\n",
    "Kamodo keeps a registry of plotting functions, indexed by argument shape and output shape."
   ]
  },
  {
   "cell_type": "code",
   "execution_count": 1,
   "metadata": {},
   "outputs": [
    {
     "data": {
      "text/html": [
       "<div>\n",
       "<style scoped>\n",
       "    .dataframe tbody tr th:only-of-type {\n",
       "        vertical-align: middle;\n",
       "    }\n",
       "\n",
       "    .dataframe tbody tr th {\n",
       "        vertical-align: top;\n",
       "    }\n",
       "\n",
       "    .dataframe thead th {\n",
       "        text-align: right;\n",
       "    }\n",
       "</style>\n",
       "<table border=\"1\" class=\"dataframe\">\n",
       "  <thead>\n",
       "    <tr style=\"text-align: right;\">\n",
       "      <th></th>\n",
       "      <th></th>\n",
       "      <th>plot_type</th>\n",
       "      <th>function</th>\n",
       "    </tr>\n",
       "    <tr>\n",
       "      <th>out_shape</th>\n",
       "      <th>arg_shapes</th>\n",
       "      <th></th>\n",
       "      <th></th>\n",
       "    </tr>\n",
       "  </thead>\n",
       "  <tbody>\n",
       "    <tr>\n",
       "      <th>(1,)</th>\n",
       "      <th>((N, M), (N, M), (N, M))</th>\n",
       "      <td>3d-parametric</td>\n",
       "      <td>kamodo.plotting.surface</td>\n",
       "    </tr>\n",
       "    <tr>\n",
       "      <th rowspan=\"4\" valign=\"top\">(N,)</th>\n",
       "      <th>((N,),)</th>\n",
       "      <td>1d-line</td>\n",
       "      <td>kamodo.plotting.line_plot</td>\n",
       "    </tr>\n",
       "    <tr>\n",
       "      <th>((N,), (N,))</th>\n",
       "      <td>2d-line-scalar</td>\n",
       "      <td>kamodo.plotting.line_plot</td>\n",
       "    </tr>\n",
       "    <tr>\n",
       "      <th>((N,), (N,), (N,))</th>\n",
       "      <td>3d-line-scalar</td>\n",
       "      <td>kamodo.plotting.line_plot</td>\n",
       "    </tr>\n",
       "    <tr>\n",
       "      <th>((N, 3),)</th>\n",
       "      <td>3d scatter</td>\n",
       "      <td>kamodo.plotting.scatter_plot</td>\n",
       "    </tr>\n",
       "    <tr>\n",
       "      <th rowspan=\"2\" valign=\"top\">(N, 2)</th>\n",
       "      <th>((N,),)</th>\n",
       "      <td>2d-line</td>\n",
       "      <td>kamodo.plotting.line_plot</td>\n",
       "    </tr>\n",
       "    <tr>\n",
       "      <th>((N, 2),)</th>\n",
       "      <td>2d-vector</td>\n",
       "      <td>kamodo.plotting.vector_plot</td>\n",
       "    </tr>\n",
       "    <tr>\n",
       "      <th rowspan=\"3\" valign=\"top\">(N, 3)</th>\n",
       "      <th>((N,),)</th>\n",
       "      <td>3d-line</td>\n",
       "      <td>kamodo.plotting.line_plot</td>\n",
       "    </tr>\n",
       "    <tr>\n",
       "      <th>((N, 3),)</th>\n",
       "      <td>3d-vector</td>\n",
       "      <td>kamodo.plotting.vector_plot</td>\n",
       "    </tr>\n",
       "    <tr>\n",
       "      <th>((M,), (M,), (M,))</th>\n",
       "      <td>3d-tri-surface</td>\n",
       "      <td>kamodo.plotting.tri_surface_plot</td>\n",
       "    </tr>\n",
       "    <tr>\n",
       "      <th>(N, N)</th>\n",
       "      <th>((N,), (N,))</th>\n",
       "      <td>2d-contour</td>\n",
       "      <td>kamodo.plotting.contour_plot</td>\n",
       "    </tr>\n",
       "    <tr>\n",
       "      <th rowspan=\"7\" valign=\"top\">(N, M)</th>\n",
       "      <th>((N,), (M,))</th>\n",
       "      <td>2d-contour</td>\n",
       "      <td>kamodo.plotting.contour_plot</td>\n",
       "    </tr>\n",
       "    <tr>\n",
       "      <th>((M,), (N,))</th>\n",
       "      <td>2d-contour</td>\n",
       "      <td>kamodo.plotting.contour_plot</td>\n",
       "    </tr>\n",
       "    <tr>\n",
       "      <th>((N, M), (N, M))</th>\n",
       "      <td>2d-contour-skew</td>\n",
       "      <td>kamodo.plotting.contour_plot</td>\n",
       "    </tr>\n",
       "    <tr>\n",
       "      <th>((N, M), (N, M), (N, M))</th>\n",
       "      <td>3d-parametric-scalar</td>\n",
       "      <td>kamodo.plotting.surface</td>\n",
       "    </tr>\n",
       "    <tr>\n",
       "      <th>((1,), (N, M), (N, M))</th>\n",
       "      <td>3d-plane</td>\n",
       "      <td>kamodo.plotting.plane</td>\n",
       "    </tr>\n",
       "    <tr>\n",
       "      <th>((N, M), (1,), (N, M))</th>\n",
       "      <td>3d-plane</td>\n",
       "      <td>kamodo.plotting.plane</td>\n",
       "    </tr>\n",
       "    <tr>\n",
       "      <th>((N, M), (N, M), (1,))</th>\n",
       "      <td>3d-plane</td>\n",
       "      <td>kamodo.plotting.plane</td>\n",
       "    </tr>\n",
       "    <tr>\n",
       "      <th rowspan=\"2\" valign=\"top\">(N, 1, M)</th>\n",
       "      <th>((N,), (1,), (M,))</th>\n",
       "      <td>3d-plane</td>\n",
       "      <td>kamodo.plotting.plane</td>\n",
       "    </tr>\n",
       "    <tr>\n",
       "      <th>((1,), (N,), (M,))</th>\n",
       "      <td>3d-plane</td>\n",
       "      <td>kamodo.plotting.plane</td>\n",
       "    </tr>\n",
       "    <tr>\n",
       "      <th>(1, N, M)</th>\n",
       "      <th>((N,), (1,), (M,))</th>\n",
       "      <td>3d-plane</td>\n",
       "      <td>kamodo.plotting.plane</td>\n",
       "    </tr>\n",
       "    <tr>\n",
       "      <th rowspan=\"4\" valign=\"top\">(N, M, 1)</th>\n",
       "      <th>((1,), (N,), (M,))</th>\n",
       "      <td>3d-plane</td>\n",
       "      <td>kamodo.plotting.plane</td>\n",
       "    </tr>\n",
       "    <tr>\n",
       "      <th>((N,), (1,), (M,))</th>\n",
       "      <td>3d-plane</td>\n",
       "      <td>kamodo.plotting.plane</td>\n",
       "    </tr>\n",
       "    <tr>\n",
       "      <th>((N,), (M,), (1,))</th>\n",
       "      <td>3d-plane</td>\n",
       "      <td>kamodo.plotting.plane</td>\n",
       "    </tr>\n",
       "    <tr>\n",
       "      <th>((M,), (N,), (1,))</th>\n",
       "      <td>3d-plane</td>\n",
       "      <td>kamodo.plotting.plane</td>\n",
       "    </tr>\n",
       "    <tr>\n",
       "      <th>(N, M, 3)</th>\n",
       "      <th>((N,), (M,))</th>\n",
       "      <td>image</td>\n",
       "      <td>kamodo.plotting.image</td>\n",
       "    </tr>\n",
       "  </tbody>\n",
       "</table>\n",
       "</div>"
      ],
      "text/plain": [
       "                                               plot_type  \\\n",
       "out_shape arg_shapes                                       \n",
       "(1,)      ((N, M), (N, M), (N, M))         3d-parametric   \n",
       "(N,)      ((N,),)                                1d-line   \n",
       "          ((N,), (N,))                    2d-line-scalar   \n",
       "          ((N,), (N,), (N,))              3d-line-scalar   \n",
       "          ((N, 3),)                           3d scatter   \n",
       "(N, 2)    ((N,),)                                2d-line   \n",
       "          ((N, 2),)                            2d-vector   \n",
       "(N, 3)    ((N,),)                                3d-line   \n",
       "          ((N, 3),)                            3d-vector   \n",
       "          ((M,), (M,), (M,))              3d-tri-surface   \n",
       "(N, N)    ((N,), (N,))                        2d-contour   \n",
       "(N, M)    ((N,), (M,))                        2d-contour   \n",
       "          ((M,), (N,))                        2d-contour   \n",
       "          ((N, M), (N, M))               2d-contour-skew   \n",
       "          ((N, M), (N, M), (N, M))  3d-parametric-scalar   \n",
       "          ((1,), (N, M), (N, M))                3d-plane   \n",
       "          ((N, M), (1,), (N, M))                3d-plane   \n",
       "          ((N, M), (N, M), (1,))                3d-plane   \n",
       "(N, 1, M) ((N,), (1,), (M,))                    3d-plane   \n",
       "          ((1,), (N,), (M,))                    3d-plane   \n",
       "(1, N, M) ((N,), (1,), (M,))                    3d-plane   \n",
       "(N, M, 1) ((1,), (N,), (M,))                    3d-plane   \n",
       "          ((N,), (1,), (M,))                    3d-plane   \n",
       "          ((N,), (M,), (1,))                    3d-plane   \n",
       "          ((M,), (N,), (1,))                    3d-plane   \n",
       "(N, M, 3) ((N,), (M,))                             image   \n",
       "\n",
       "                                                            function  \n",
       "out_shape arg_shapes                                                  \n",
       "(1,)      ((N, M), (N, M), (N, M))           kamodo.plotting.surface  \n",
       "(N,)      ((N,),)                          kamodo.plotting.line_plot  \n",
       "          ((N,), (N,))                     kamodo.plotting.line_plot  \n",
       "          ((N,), (N,), (N,))               kamodo.plotting.line_plot  \n",
       "          ((N, 3),)                     kamodo.plotting.scatter_plot  \n",
       "(N, 2)    ((N,),)                          kamodo.plotting.line_plot  \n",
       "          ((N, 2),)                      kamodo.plotting.vector_plot  \n",
       "(N, 3)    ((N,),)                          kamodo.plotting.line_plot  \n",
       "          ((N, 3),)                      kamodo.plotting.vector_plot  \n",
       "          ((M,), (M,), (M,))        kamodo.plotting.tri_surface_plot  \n",
       "(N, N)    ((N,), (N,))                  kamodo.plotting.contour_plot  \n",
       "(N, M)    ((N,), (M,))                  kamodo.plotting.contour_plot  \n",
       "          ((M,), (N,))                  kamodo.plotting.contour_plot  \n",
       "          ((N, M), (N, M))              kamodo.plotting.contour_plot  \n",
       "          ((N, M), (N, M), (N, M))           kamodo.plotting.surface  \n",
       "          ((1,), (N, M), (N, M))               kamodo.plotting.plane  \n",
       "          ((N, M), (1,), (N, M))               kamodo.plotting.plane  \n",
       "          ((N, M), (N, M), (1,))               kamodo.plotting.plane  \n",
       "(N, 1, M) ((N,), (1,), (M,))                   kamodo.plotting.plane  \n",
       "          ((1,), (N,), (M,))                   kamodo.plotting.plane  \n",
       "(1, N, M) ((N,), (1,), (M,))                   kamodo.plotting.plane  \n",
       "(N, M, 1) ((1,), (N,), (M,))                   kamodo.plotting.plane  \n",
       "          ((N,), (1,), (M,))                   kamodo.plotting.plane  \n",
       "          ((N,), (M,), (1,))                   kamodo.plotting.plane  \n",
       "          ((M,), (N,), (1,))                   kamodo.plotting.plane  \n",
       "(N, M, 3) ((N,), (M,))                         kamodo.plotting.image  "
      ]
     },
     "execution_count": 1,
     "metadata": {},
     "output_type": "execute_result"
    }
   ],
   "source": [
    "from kamodo.plotting import plot_types\n",
    "plot_types"
   ]
  },
  {
   "cell_type": "markdown",
   "metadata": {},
   "source": [
    "When a user tries to plot a given variable, a lookup is made into the table above and the corresponding plotting function is used to generate the output. Examples below demonstrate the intended workflow."
   ]
  },
  {
   "cell_type": "markdown",
   "metadata": {
    "slideshow": {
     "slide_type": "slide"
    }
   },
   "source": [
    "### 1-Dimensional line plots"
   ]
  },
  {
   "cell_type": "code",
   "execution_count": 2,
   "metadata": {
    "slideshow": {
     "slide_type": "skip"
    }
   },
   "outputs": [
    {
     "data": {
      "text/latex": [
       "\\begin{equation}\\operatorname{g_{N}}{\\left(x_{N} \\right)}[kg] = x_{N}^{2}\\end{equation} \\begin{equation}f{\\left(x_{N} \\right)}[g] = 1000 \\operatorname{g_{N}}{\\left(x_{N} \\right)}\\end{equation}"
      ],
      "text/plain": [
       "{g_N(x_N): <function _lambdifygenerated at 0x12301f1a0>, g_N: <function _lambdifygenerated at 0x12301f1a0>, f(x_N): <function _lambdifygenerated at 0x13908f240>, f: <function _lambdifygenerated at 0x13908f240>}"
      ]
     },
     "execution_count": 2,
     "metadata": {},
     "output_type": "execute_result"
    }
   ],
   "source": [
    "from kamodo import Kamodo, kamodofy\n",
    "kamodo = Kamodo('g_N[kg] = x_N**2')\n",
    "kamodo['f[g]'] = 'g_N'\n",
    "kamodo"
   ]
  },
  {
   "cell_type": "markdown",
   "metadata": {},
   "source": [
    "Here we have defined a function $g_N$ which returns an array of shape $N$. As input, it takes one argument $x_N$ which also has size $N$. We also generate a function $f$ which is the same as $g_N$ but with a different units.\n",
    "\n",
    "!!! note\n",
    "    We could have named the function $g$ instead of $g_N$. The variable names have no bearing on the resulting plots - only the argument input shapes and output shapes matter."
   ]
  },
  {
   "cell_type": "markdown",
   "metadata": {},
   "source": [
    "When we call Kamodo's plot function, we define which variable we are plotting and domain over which the arguments are applied:"
   ]
  },
  {
   "cell_type": "code",
   "execution_count": 3,
   "metadata": {
    "slideshow": {
     "slide_type": "subslide"
    }
   },
   "outputs": [],
   "source": [
    "import numpy as np\n",
    "import plotly.io as pio\n",
    "\n",
    "fig = kamodo.plot(f = dict(x_N = np.linspace(-4, 3, 30)))\n",
    "# pio.write_image(fig, 'images/1d-line.svg')"
   ]
  },
  {
   "cell_type": "markdown",
   "metadata": {},
   "source": [
    "![1d](images/1d-line.svg)"
   ]
  },
  {
   "cell_type": "markdown",
   "metadata": {},
   "source": [
    "This is the graph $f(x_n)$ for $x_N \\in [-4,3]$."
   ]
  },
  {
   "cell_type": "markdown",
   "metadata": {
    "slideshow": {
     "slide_type": "subslide"
    }
   },
   "source": [
    "### Time series data\n",
    "The process for time series data is the same, except we use a pandas datetime index for the input argument."
   ]
  },
  {
   "cell_type": "code",
   "execution_count": 4,
   "metadata": {},
   "outputs": [],
   "source": [
    "import pandas as pd\n",
    "t_N = pd.date_range('Nov 9, 2018', 'Nov 20, 2018', freq = 'H')"
   ]
  },
  {
   "cell_type": "code",
   "execution_count": 5,
   "metadata": {
    "slideshow": {
     "slide_type": "skip"
    }
   },
   "outputs": [
    {
     "data": {
      "text/latex": [
       "\\begin{equation}\\rho_{N}{\\left(t_{N} \\right)}[\\frac{kg}{m^{3}}] = \\lambda{\\left(t_{N} \\right)}\\end{equation}"
      ],
      "text/plain": [
       "{rho_N(t_N): <function rho_N at 0x139ec56c0>, rho_N: <function rho_N at 0x139ec56c0>}"
      ]
     },
     "execution_count": 5,
     "metadata": {},
     "output_type": "execute_result"
    }
   ],
   "source": [
    "@kamodofy(units = 'kg/m**3')\n",
    "def rho_N(t_N = t_N):\n",
    "    dt_days = (t_N - t_N[0]).total_seconds()/(24*3600)\n",
    "    return 1+np.sin(dt_days) + .1*np.random.random(len(dt_days))\n",
    "\n",
    "kamodo = Kamodo(rho_N = rho_N, verbose = False)\n",
    "kamodo"
   ]
  },
  {
   "cell_type": "code",
   "execution_count": 6,
   "metadata": {},
   "outputs": [],
   "source": [
    "fig = kamodo.plot('rho_N')"
   ]
  },
  {
   "cell_type": "markdown",
   "metadata": {},
   "source": [
    "In this case, we only need to name the variable we wish to plot, because we have already defined a function $rho_N(t_N)$ with a default parameter for $t_N$. "
   ]
  },
  {
   "cell_type": "code",
   "execution_count": 7,
   "metadata": {},
   "outputs": [],
   "source": [
    "# pio.write_image(fig, 'images/1d-time-series.svg')"
   ]
  },
  {
   "cell_type": "markdown",
   "metadata": {},
   "source": [
    "![timeseries](images/1d-time-series.svg)"
   ]
  },
  {
   "cell_type": "markdown",
   "metadata": {},
   "source": [
    "!!! note\n",
    "    By providing default parameters, the function author can insure that anyone plotting the variable will not need to know where to place resolution!"
   ]
  },
  {
   "cell_type": "markdown",
   "metadata": {
    "slideshow": {
     "slide_type": "subslide"
    }
   },
   "source": [
    "## 2-D Parametric charts\n",
    "\n",
    "For 2-D Plots, the output function must have input shape $(N,1)$ and output shape $(N,2)$."
   ]
  },
  {
   "cell_type": "code",
   "execution_count": 8,
   "metadata": {
    "slideshow": {
     "slide_type": "fragment"
    }
   },
   "outputs": [
    {
     "data": {
      "text/latex": [
       "\\begin{equation}\\operatorname{x_{N,2}}{\\left(\\theta_{N} \\right)}[cm] = \\lambda{\\left(\\theta_{N} \\right)}\\end{equation}"
      ],
      "text/plain": [
       "{x_Ncomma2(theta_N): <function x_Ncomma2 at 0x139ec7740>, x_Ncomma2: <function x_Ncomma2 at 0x139ec7740>}"
      ]
     },
     "execution_count": 8,
     "metadata": {},
     "output_type": "execute_result"
    }
   ],
   "source": [
    "from kamodo import Kamodo\n",
    "@kamodofy(units = 'cm')\n",
    "def x_Ncomma2(theta_N = np.linspace(0,6*np.pi, 200)):\n",
    "    r = theta_N\n",
    "    x = r*np.cos(theta_N)\n",
    "    y = r*np.sin(theta_N)\n",
    "    return np.array(list(zip(x,y)))\n",
    "\n",
    "kamodo = Kamodo(x_Ncomma2 = x_Ncomma2)\n",
    "kamodo"
   ]
  },
  {
   "cell_type": "markdown",
   "metadata": {},
   "source": [
    "Here, we again provide a default array for $\\theta_N$ so the end user does not need to:"
   ]
  },
  {
   "cell_type": "code",
   "execution_count": 9,
   "metadata": {
    "slideshow": {
     "slide_type": "subslide"
    }
   },
   "outputs": [],
   "source": [
    "fig = kamodo.plot('x_Ncomma2')\n",
    "# pio.write_image(fig, 'images/fig-2d.svg')"
   ]
  },
  {
   "cell_type": "markdown",
   "metadata": {},
   "source": [
    "![param2d](images/fig-2d.svg)"
   ]
  },
  {
   "cell_type": "markdown",
   "metadata": {
    "slideshow": {
     "slide_type": "subslide"
    }
   },
   "source": [
    "## 3-Dimensional parametric curves"
   ]
  },
  {
   "cell_type": "markdown",
   "metadata": {},
   "source": [
    "For 3-D parametric curves, the output function must have input shape $(N,1)$ and output shape $(N,3)$."
   ]
  },
  {
   "cell_type": "code",
   "execution_count": 10,
   "metadata": {
    "slideshow": {
     "slide_type": "fragment"
    }
   },
   "outputs": [
    {
     "data": {
      "text/latex": [
       "\\begin{equation}\\operatorname{x_{N,3}}{\\left(t_{N} \\right)}[km] = \\lambda{\\left(t_{N} \\right)}\\end{equation}"
      ],
      "text/plain": [
       "{x_Ncomma3(t_N): <function x_Ncomma3 at 0x139f90360>, x_Ncomma3: <function x_Ncomma3 at 0x139f90360>}"
      ]
     },
     "execution_count": 10,
     "metadata": {},
     "output_type": "execute_result"
    }
   ],
   "source": [
    "@kamodofy(units = 'km')\n",
    "def x_Ncomma3(t_N = pd.date_range('Nov 12, 2018', 'Dec 30, 2018', freq = '4 H')):\n",
    "    dt_days = (t_N - t_N[0]).total_seconds()/(24*3600)\n",
    "    theta = dt_days*np.pi/5\n",
    "    r = theta\n",
    "    x = r*np.cos(theta)\n",
    "    y = r*np.sin(theta)\n",
    "    z = r\n",
    "    return np.array(list(zip(x,y,z)))\n",
    "\n",
    "kamodo = Kamodo(x_Ncomma3 = x_Ncomma3)\n",
    "kamodo"
   ]
  },
  {
   "cell_type": "code",
   "execution_count": 11,
   "metadata": {},
   "outputs": [],
   "source": [
    "fig = kamodo.plot('x_Ncomma3')\n",
    "# pio.write_image(fig, 'images/3d-line.svg')"
   ]
  },
  {
   "cell_type": "markdown",
   "metadata": {},
   "source": [
    "![3d-line](images/3d-line.svg)"
   ]
  },
  {
   "cell_type": "markdown",
   "metadata": {
    "slideshow": {
     "slide_type": "subslide"
    }
   },
   "source": [
    "Functions of three N-d arrays are also interpreted as 3D parametric plots, but with an additonal color component."
   ]
  },
  {
   "cell_type": "code",
   "execution_count": 12,
   "metadata": {
    "slideshow": {
     "slide_type": "fragment"
    }
   },
   "outputs": [
    {
     "data": {
      "text/latex": [
       "\\begin{equation}\\operatorname{f_{N}}{\\left(x_{N},y_{N},z_{N} \\right)}[kg] = \\lambda{\\left(x_{N},y_{N},z_{N} \\right)}\\end{equation}"
      ],
      "text/plain": [
       "{f_N(x_N, y_N, z_N): <function f_N at 0x139f93740>, f_N: <function f_N at 0x139f93740>}"
      ]
     },
     "execution_count": 12,
     "metadata": {},
     "output_type": "execute_result"
    }
   ],
   "source": [
    "s = np.linspace(0, 8*np.pi, 100)\n",
    "x = 10*np.sin(s/8)\n",
    "y = 10*np.sin(s)\n",
    "z = s\n",
    "\n",
    "@kamodofy(units = 'kg')\n",
    "def f_N(x_N = x, y_N = y, z_N = z):\n",
    "    return x_N**2+y_N**2+z_N**2\n",
    "\n",
    "kamodo = Kamodo(f_N = f_N)\n",
    "kamodo"
   ]
  },
  {
   "cell_type": "code",
   "execution_count": 13,
   "metadata": {},
   "outputs": [],
   "source": [
    "fig = kamodo.plot('f_N')\n",
    "# pio.write_image(fig, 'images/3d-points.svg')"
   ]
  },
  {
   "cell_type": "markdown",
   "metadata": {},
   "source": [
    "![3d-points](images/3d-points.svg)"
   ]
  },
  {
   "cell_type": "markdown",
   "metadata": {
    "slideshow": {
     "slide_type": "slide"
    }
   },
   "source": [
    "# Vector fields\n",
    "\n",
    "Kamodo generates a 2-d vector (quiver) plot for functions of one variable, if both the input and output have shape (N,2). The input positions are assumed to be $x$,$y$ and the output vectors are assumed to be $v_x$, $v_y$"
   ]
  },
  {
   "cell_type": "code",
   "execution_count": 14,
   "metadata": {
    "slideshow": {
     "slide_type": "subslide"
    }
   },
   "outputs": [
    {
     "data": {
      "text/latex": [
       "\\begin{equation}\\vec{f}_{N,2}{\\left(\\vec{r}_{N,2} \\right)}[cm] = \\lambda{\\left(\\vec{r}_{N,2} \\right)}\\end{equation}"
      ],
      "text/plain": [
       "{fvec_Ncomma2(rvec_Ncomma2): <function fvec_Ncomma2 at 0x13a014ea0>, fvec_Ncomma2: <function fvec_Ncomma2 at 0x13a014ea0>}"
      ]
     },
     "execution_count": 14,
     "metadata": {},
     "output_type": "execute_result"
    }
   ],
   "source": [
    "theta_N = np.linspace(0,6*np.pi, 200)\n",
    "r = theta_N\n",
    "x = r*np.cos(theta_N)\n",
    "y = r*np.sin(theta_N)\n",
    "points = np.array(list(zip(x,y)))\n",
    "\n",
    "@kamodofy(units = 'cm')\n",
    "def fvec_Ncomma2(rvec_Ncomma2 = points):\n",
    "    return rvec_Ncomma2\n",
    "\n",
    "kamodo = Kamodo(fvec_Ncomma2 = fvec_Ncomma2)\n",
    "kamodo"
   ]
  },
  {
   "cell_type": "code",
   "execution_count": 15,
   "metadata": {},
   "outputs": [],
   "source": [
    "fig = kamodo.plot('fvec_Ncomma2')\n",
    "# pio.write_image(fig, 'images/fig2d-vector.svg')"
   ]
  },
  {
   "cell_type": "markdown",
   "metadata": {},
   "source": [
    "![fig2dvec](images/fig2d-vector.svg)"
   ]
  },
  {
   "cell_type": "markdown",
   "metadata": {},
   "source": [
    "If we wish to represent a grid of vectors, we must first unravel the grid as a string of points."
   ]
  },
  {
   "cell_type": "code",
   "execution_count": 16,
   "metadata": {
    "slideshow": {
     "slide_type": "subslide"
    }
   },
   "outputs": [
    {
     "data": {
      "text/latex": [
       "\\begin{equation}\\vec{f}_{N,2}{\\left(\\vec{r}_{N,2} \\right)} = \\lambda{\\left(\\vec{r}_{N,2} \\right)}\\end{equation}"
      ],
      "text/plain": [
       "{fvec_Ncomma2(rvec_Ncomma2): <function fvec_Ncomma2 at 0x13a016980>, fvec_Ncomma2: <function fvec_Ncomma2 at 0x13a016980>}"
      ]
     },
     "execution_count": 16,
     "metadata": {},
     "output_type": "execute_result"
    }
   ],
   "source": [
    "x = np.linspace(-np.pi, np.pi, 25)\n",
    "y = np.linspace(-np.pi, np.pi, 30)\n",
    "xx, yy = np.meshgrid(x,y)\n",
    "points = np.array(list(zip(xx.ravel(), yy.ravel())))\n",
    "\n",
    "def fvec_Ncomma2(rvec_Ncomma2 = points):\n",
    "    ux = np.sin(rvec_Ncomma2[:,0])\n",
    "    uy = np.cos(rvec_Ncomma2[:,1])\n",
    "    return np.vstack((ux,uy)).T\n",
    "    \n",
    "kamodo = Kamodo(fvec_Ncomma2 = fvec_Ncomma2)\n",
    "kamodo"
   ]
  },
  {
   "cell_type": "code",
   "execution_count": 17,
   "metadata": {},
   "outputs": [],
   "source": [
    "fig = kamodo.plot('fvec_Ncomma2')\n",
    "# pio.write_image(fig, 'images/fig2d-vector-field.svg')"
   ]
  },
  {
   "cell_type": "markdown",
   "metadata": {},
   "source": [
    "![fig2dvec](images/fig2d-vector-field.svg)"
   ]
  },
  {
   "cell_type": "markdown",
   "metadata": {
    "slideshow": {
     "slide_type": "subslide"
    }
   },
   "source": [
    "### 3D vector fields\n",
    "\n",
    "Functions representing 3D vector fields should have one argument of shape (N,3) and an output shape of (N,3)"
   ]
  },
  {
   "cell_type": "code",
   "execution_count": 18,
   "metadata": {
    "slideshow": {
     "slide_type": "fragment"
    }
   },
   "outputs": [
    {
     "data": {
      "text/latex": [
       "\\begin{equation}\\vec{f}_{N,3}{\\left(\\vec{r}_{N,3} \\right)} = \\lambda{\\left(\\vec{r}_{N,3} \\right)}\\end{equation}"
      ],
      "text/plain": [
       "{fvec_Ncomma3(rvec_Ncomma3): <function fvec_Ncomma3 at 0x13a0d8360>, fvec_Ncomma3: <function fvec_Ncomma3 at 0x13a0d8360>}"
      ]
     },
     "execution_count": 18,
     "metadata": {},
     "output_type": "execute_result"
    }
   ],
   "source": [
    "x, y, z = np.meshgrid(np.linspace(-2,2,4),\n",
    "                      np.linspace(-3,3,6),\n",
    "                      np.linspace(-5,5,10))\n",
    "points = np.array(list(zip(x.ravel(), y.ravel(), z.ravel())))\n",
    "def fvec_Ncomma3(rvec_Ncomma3 = points):\n",
    "    return rvec_Ncomma3\n",
    "\n",
    "kamodo = Kamodo(fvec_Ncomma3 = fvec_Ncomma3)\n",
    "kamodo"
   ]
  },
  {
   "cell_type": "code",
   "execution_count": 19,
   "metadata": {},
   "outputs": [],
   "source": [
    "fig = kamodo.plot('fvec_Ncomma3')\n",
    "# pio.write_image(fig, 'images/fig3d-vector.svg')"
   ]
  },
  {
   "cell_type": "markdown",
   "metadata": {},
   "source": [
    "![fig3dvec](images/fig3d-vector.svg)"
   ]
  },
  {
   "cell_type": "markdown",
   "metadata": {
    "slideshow": {
     "slide_type": "slide"
    }
   },
   "source": [
    "# Contour plots\n",
    "\n",
    "Scalar functions of two variables of size (N) and (M) and output size (N,M) will generate contour plots. Kamodo can handle both ```ij``` indexing and ```xy``` indexing."
   ]
  },
  {
   "cell_type": "code",
   "execution_count": 20,
   "metadata": {
    "slideshow": {
     "slide_type": "fragment"
    }
   },
   "outputs": [
    {
     "data": {
      "text/latex": [
       "\\begin{equation}\\operatorname{f_{N,M}}{\\left(x_{N},y_{M} \\right)}[cm^{2}] = \\lambda{\\left(x_{N},y_{M} \\right)}\\end{equation}"
      ],
      "text/plain": [
       "{f_NcommaM(x_N, y_M): <function f_NcommaM at 0x13a0d9f80>, f_NcommaM: <function f_NcommaM at 0x13a0d9f80>}"
      ]
     },
     "execution_count": 20,
     "metadata": {},
     "output_type": "execute_result"
    }
   ],
   "source": [
    "from kamodo import Kamodo\n",
    "@kamodofy(units = 'cm^2')\n",
    "def f_NcommaM(x_N = np.linspace(0, 8*np.pi,100), y_M = np.linspace(0, 5, 90)):\n",
    "    x, y = np.meshgrid(x_N, y_M, indexing = 'xy')\n",
    "    return np.sin(x)*y\n",
    "\n",
    "kamodo = Kamodo(f_NcommaM = f_NcommaM)\n",
    "kamodo"
   ]
  },
  {
   "cell_type": "code",
   "execution_count": 21,
   "metadata": {},
   "outputs": [],
   "source": [
    "fig = kamodo.plot('f_NcommaM')\n",
    "# pio.write_image(fig, 'images/fig2d-contour.svg')"
   ]
  },
  {
   "cell_type": "markdown",
   "metadata": {},
   "source": [
    "![contour](images/fig2d-contour.svg)"
   ]
  },
  {
   "cell_type": "markdown",
   "metadata": {},
   "source": [
    "Since $x_N$ and $y_M$ have differnt sizes, we could have used ```indexing=ij``` as an argument to meshgrid and kamodo would have produced the same figure - Kamodo swaps the ordering where appropriate. In the event that *both* arguments have the same size, we can pass an ```indexing``` argument as an option to the plot function."
   ]
  },
  {
   "cell_type": "code",
   "execution_count": 22,
   "metadata": {
    "slideshow": {
     "slide_type": "skip"
    }
   },
   "outputs": [
    {
     "data": {
      "text/latex": [
       "\\begin{equation}\\operatorname{f_{NN}}{\\left(x_{N},y_{N} \\right)}[cm^{2}] = \\lambda{\\left(x_{N},y_{N} \\right)}\\end{equation}"
      ],
      "text/plain": [
       "{f_NN(x_N, y_N): <function f_NN at 0x139ec5300>, f_NN: <function f_NN at 0x139ec5300>}"
      ]
     },
     "execution_count": 22,
     "metadata": {},
     "output_type": "execute_result"
    }
   ],
   "source": [
    "@kamodofy(units = 'cm**2')\n",
    "def f_NN(x_N = np.linspace(0, 8*np.pi, 90), y_N = np.linspace(0, 5, 90)):\n",
    "    x, y = np.meshgrid(x_N, y_N, indexing = 'xy')\n",
    "    return np.sin(x)*y\n",
    "\n",
    "kamodo = Kamodo(f_NN = f_NN)\n",
    "kamodo"
   ]
  },
  {
   "cell_type": "code",
   "execution_count": 23,
   "metadata": {},
   "outputs": [],
   "source": [
    "fig = kamodo.plot(f_NN = dict(indexing = 'xy'))\n",
    "# pio.write_image(fig, 'images/fig2d-contour-xy.svg')"
   ]
  },
  {
   "cell_type": "markdown",
   "metadata": {},
   "source": [
    "![fig2dcontourxy](images/fig2d-contour-xy.svg)"
   ]
  },
  {
   "cell_type": "markdown",
   "metadata": {
    "slideshow": {
     "slide_type": "subslide"
    }
   },
   "source": [
    "# Skew (Carpet) Plots\n",
    "\n",
    "Functions of two arguments each having shape (N,M) matching the output shape will produce skewed contour plots, whereby the x and y components of the grid are independent."
   ]
  },
  {
   "cell_type": "code",
   "execution_count": 24,
   "metadata": {
    "slideshow": {
     "slide_type": "skip"
    }
   },
   "outputs": [
    {
     "data": {
      "text/latex": [
       "\\begin{equation}\\operatorname{f_{NM}}{\\left(x_{NM},y_{NM} \\right)}[cm^{2}] = \\lambda{\\left(x_{NM},y_{NM} \\right)}\\end{equation}"
      ],
      "text/plain": [
       "{f_NM(x_NM, y_NM): <function f_NM at 0x109db4cc0>, f_NM: <function f_NM at 0x109db4cc0>}"
      ]
     },
     "execution_count": 24,
     "metadata": {},
     "output_type": "execute_result"
    }
   ],
   "source": [
    "r = np.linspace(1, 3, 20)\n",
    "theta = np.linspace(0, np.pi, 14)\n",
    "r_, theta_ = np.meshgrid(r,theta)\n",
    "XX = r_*np.cos(theta_)\n",
    "YY = r_*np.sin(theta_)\n",
    "\n",
    "@kamodofy(units = 'cm**2')\n",
    "def f_NM(x_NM = XX, y_NM = YY):\n",
    "    return np.sin(x_NM)+y_NM\n",
    "\n",
    "kamodo = Kamodo(f_NM = f_NM)\n",
    "kamodo"
   ]
  },
  {
   "cell_type": "code",
   "execution_count": 25,
   "metadata": {},
   "outputs": [],
   "source": [
    "fig = kamodo.plot('f_NM')\n",
    "# pio.write_image(fig, 'images/fig2d-skew.svg')"
   ]
  },
  {
   "cell_type": "markdown",
   "metadata": {},
   "source": [
    "![fig2dskew](images/fig2d-skew.svg)"
   ]
  },
  {
   "cell_type": "markdown",
   "metadata": {
    "slideshow": {
     "slide_type": "slide"
    }
   },
   "source": [
    "# Parametric surfaces"
   ]
  },
  {
   "cell_type": "markdown",
   "metadata": {},
   "source": [
    "To generate a purely geometrical parametric surface, supply a functions of three variables, each of size (N,M) and of output shape (1)."
   ]
  },
  {
   "cell_type": "code",
   "execution_count": 26,
   "metadata": {
    "slideshow": {
     "slide_type": "fragment"
    }
   },
   "outputs": [
    {
     "data": {
      "text/latex": [
       "\\begin{equation}p{\\left(x_{NM},y_{NM},z_{NM} \\right)}[cm] = \\lambda{\\left(x_{NM},y_{NM},z_{NM} \\right)}\\end{equation}"
      ],
      "text/plain": [
       "{p(x_NM, y_NM, z_NM): <function parametric at 0x13a142f20>, p: <function parametric at 0x13a142f20>}"
      ]
     },
     "execution_count": 26,
     "metadata": {},
     "output_type": "execute_result"
    }
   ],
   "source": [
    "from kamodo import Kamodo\n",
    "u = np.linspace(-2, 2, 40)\n",
    "v = np.linspace(-2, 2, 50)\n",
    "uu, vv = np.meshgrid(u,v)\n",
    "\n",
    "@kamodofy(units = 'cm')\n",
    "def parametric(x_NM = uu*np.sin(vv*np.pi), \n",
    "               y_NM = vv, \n",
    "               z_NM = np.exp(-uu**2-vv**2)):\n",
    "    return np.array([1])\n",
    "kamodo = Kamodo(p = parametric)\n",
    "kamodo"
   ]
  },
  {
   "cell_type": "code",
   "execution_count": 27,
   "metadata": {},
   "outputs": [],
   "source": [
    "fig = kamodo.plot('p')\n",
    "# pio.write_image(fig, 'images/3d-parametric.svg')"
   ]
  },
  {
   "cell_type": "markdown",
   "metadata": {},
   "source": [
    "![3dparametric](images/3d-parametric.svg)"
   ]
  },
  {
   "cell_type": "markdown",
   "metadata": {
    "slideshow": {
     "slide_type": "skip"
    }
   },
   "source": [
    "To control the color of the parametric surface, have the output shape be (N,M)."
   ]
  },
  {
   "cell_type": "code",
   "execution_count": 28,
   "metadata": {
    "slideshow": {
     "slide_type": "subslide"
    }
   },
   "outputs": [
    {
     "data": {
      "text/latex": [
       "\\begin{equation}\\operatorname{h_{NM}}{\\left(x_{NM},y_{NM},z_{NM} \\right)}[cm] = \\lambda{\\left(x_{NM},y_{NM},z_{NM} \\right)}\\end{equation}"
      ],
      "text/plain": [
       "{h_NM(x_NM, y_NM, z_NM): <function spherelike at 0x13a1880e0>, h_NM: <function spherelike at 0x13a1880e0>}"
      ]
     },
     "execution_count": 28,
     "metadata": {},
     "output_type": "execute_result"
    }
   ],
   "source": [
    "R = 1\n",
    "theta = np.linspace(.2*np.pi, .8*np.pi, 40)\n",
    "phi = np.linspace(0, 2*np.pi, 50)\n",
    "theta_, phi_ = np.meshgrid(theta, phi)\n",
    "r = (R +.1*(np.cos(10*theta_)*np.sin(14*phi_)))\n",
    "\n",
    "xx = r*np.sin(theta_)*np.cos(phi_)\n",
    "yy = r*np.sin(theta_)*np.sin(phi_)\n",
    "zz = r*np.cos(theta_)\n",
    "\n",
    "@kamodofy(units = 'cm')\n",
    "def spherelike(x_NM = xx, y_NM = yy, z_NM = zz):\n",
    "    return .1*x_NM + x_NM**2 + y_NM**2 + z_NM**2\n",
    "\n",
    "kamodo = Kamodo(h_NM = spherelike)\n",
    "kamodo"
   ]
  },
  {
   "cell_type": "code",
   "execution_count": 29,
   "metadata": {},
   "outputs": [],
   "source": [
    "fig = kamodo.plot('h_NM')\n",
    "# pio.write_image(fig, 'images/3d-parametric-color.svg')"
   ]
  },
  {
   "cell_type": "markdown",
   "metadata": {},
   "source": [
    "![parametric3dcolor](images/3d-parametric-color.svg)"
   ]
  },
  {
   "cell_type": "markdown",
   "metadata": {
    "collapsed": true,
    "jupyter": {
     "outputs_hidden": true
    },
    "slideshow": {
     "slide_type": "slide"
    }
   },
   "source": [
    "## Map-to-plane\n",
    "We often need to produce slices through a volumetric grid of data. This may be accomplished through the use of volumetric grid interpolators equipped with default values for each of the input arguments. Suppose such a function has default input arguments of size (L), (M), (N), and output shape (L,M,N), then a cartesian plane will be generated if the user overrides one of these defaults (e.g. setting $L = 1$)."
   ]
  },
  {
   "cell_type": "code",
   "execution_count": 30,
   "metadata": {},
   "outputs": [
    {
     "data": {
      "text/latex": [
       "\\begin{equation}\\operatorname{f_{LMN}}{\\left(x_{L},y_{M},z_{N} \\right)}[\\frac{g}{cm^{3}}] = \\lambda{\\left(x_{L},y_{M},z_{N} \\right)}\\end{equation}"
      ],
      "text/plain": [
       "{f_LMN(x_L, y_M, z_N): <function f_LMN at 0x13a1c1760>, f_LMN: <function f_LMN at 0x13a1c1760>}"
      ]
     },
     "execution_count": 30,
     "metadata": {},
     "output_type": "execute_result"
    }
   ],
   "source": [
    "@kamodofy(units = 'g/cm**3')\n",
    "def f_LMN(\n",
    "      x_L = np.linspace(-5, 5, 50), \n",
    "      y_M = np.linspace(0, 10, 75), \n",
    "      z_N = np.linspace(-20, 20, 100)):\n",
    "    xx, yy, zz = np.meshgrid(x_L,y_M,z_N, indexing = 'xy')\n",
    "    return xx + yy + zz\n",
    "\n",
    "kamodo = Kamodo(f_LMN = f_LMN)\n",
    "kamodo"
   ]
  },
  {
   "cell_type": "code",
   "execution_count": 31,
   "metadata": {
    "slideshow": {
     "slide_type": "subslide"
    }
   },
   "outputs": [],
   "source": [
    "fig = kamodo.plot(f_LMN = dict(z_N = -5))\n",
    "# pio.write_image(fig,'images/fig2d-map-to-plane.svg')"
   ]
  },
  {
   "cell_type": "markdown",
   "metadata": {},
   "source": [
    "![maptoplane](images/fig2d-map-to-plane.svg)"
   ]
  },
  {
   "cell_type": "markdown",
   "metadata": {
    "collapsed": true,
    "jupyter": {
     "outputs_hidden": true
    },
    "slideshow": {
     "slide_type": "fragment"
    }
   },
   "source": [
    "!!!tip\n",
    "    By providing appropriate defaults for the undelying grid structure, the interpolator author can ensure that the user can generate figures with optimal resolution!"
   ]
  },
  {
   "cell_type": "markdown",
   "metadata": {
    "slideshow": {
     "slide_type": "skip"
    }
   },
   "source": [
    "# Multiple traces"
   ]
  },
  {
   "cell_type": "markdown",
   "metadata": {
    "slideshow": {
     "slide_type": "skip"
    }
   },
   "source": [
    "Kamodo supports multiple traces in the same figure. Simply provide ```plot``` with multiple function-argument pairs."
   ]
  },
  {
   "cell_type": "code",
   "execution_count": 32,
   "metadata": {
    "slideshow": {
     "slide_type": "skip"
    }
   },
   "outputs": [
    {
     "data": {
      "text/latex": [
       "\\begin{equation}\\rho_{N}{\\left(t_{N} \\right)}[\\frac{kg}{m^{3}}] = \\lambda{\\left(t_{N} \\right)}\\end{equation} \\begin{equation}\\operatorname{p_{N}}{\\left(t_{N} \\right)}[nPa] = \\lambda{\\left(t_{N} \\right)}\\end{equation}"
      ],
      "text/plain": [
       "{rho_N(t_N): <function rho_N at 0x13a1d19e0>, rho_N: <function rho_N at 0x13a1d19e0>, p_N(t_N): <function p_N at 0x13a1d1440>, p_N: <function p_N at 0x13a1d1440>}"
      ]
     },
     "execution_count": 32,
     "metadata": {},
     "output_type": "execute_result"
    }
   ],
   "source": [
    "from kamodo import Kamodo\n",
    "t_N = pd.date_range('Nov 9, 2018', 'Nov 20, 2018', freq = 'H')\n",
    "\n",
    "@kamodofy(units = 'kg/m**3')\n",
    "def rho_N(t_N = t_N):\n",
    "    dt_days = (t_N - t_N[0]).total_seconds()/(24*3600)\n",
    "    return 1+np.sin(dt_days) + .1*np.random.random(len(dt_days))\n",
    "\n",
    "@kamodofy(units = 'nPa')\n",
    "def p_N(t_N = t_N):\n",
    "    dt_days = (t_N - t_N[0]).total_seconds()/(24*3600)\n",
    "    return 1+np.sin(2*dt_days) + .1*np.random.random(len(dt_days))\n",
    "\n",
    "\n",
    "kamodo = Kamodo(rho_N = rho_N, p_N = p_N, verbose = False)\n",
    "kamodo"
   ]
  },
  {
   "cell_type": "code",
   "execution_count": 33,
   "metadata": {},
   "outputs": [],
   "source": [
    "fig = kamodo.plot('p_N','rho_N')\n",
    "# pio.write_image(fig, 'images/multi-trace.svg')"
   ]
  },
  {
   "cell_type": "markdown",
   "metadata": {},
   "source": [
    "![multitrace](images/multi-trace.svg)"
   ]
  },
  {
   "cell_type": "markdown",
   "metadata": {},
   "source": [
    "!!! note\n",
    "    Plot types must be compatible for kamodo to plot different variables on the same axes."
   ]
  },
  {
   "cell_type": "markdown",
   "metadata": {},
   "source": [
    "Kamodo can also handle multiple traces in 3D"
   ]
  },
  {
   "cell_type": "code",
   "execution_count": 34,
   "metadata": {
    "slideshow": {
     "slide_type": "skip"
    }
   },
   "outputs": [
    {
     "data": {
      "text/latex": [
       "\\begin{equation}\\operatorname{f_{LMN}}{\\left(x_{L},y_{M},z_{N} \\right)}[\\frac{g}{cm^{3}}] = \\lambda{\\left(x_{L},y_{M},z_{N} \\right)}\\end{equation} \\begin{equation}\\operatorname{g_{LMN}}{\\left(x_{L},y_{M},z_{N} \\right)}[\\frac{g}{cm^{3}}] = \\lambda{\\left(x_{L},y_{M},z_{N} \\right)}\\end{equation}"
      ],
      "text/plain": [
       "{f_LMN(x_L, y_M, z_N): <function f_LMN at 0x13a1d25c0>, f_LMN: <function f_LMN at 0x13a1d25c0>, g_LMN(x_L, y_M, z_N): <function f_LMN at 0x13a1d3880>, g_LMN: <function f_LMN at 0x13a1d3880>}"
      ]
     },
     "execution_count": 34,
     "metadata": {},
     "output_type": "execute_result"
    }
   ],
   "source": [
    "from kamodo import Kamodo, kamodofy\n",
    "\n",
    "@kamodofy(units = 'g/cm**3')\n",
    "def f_LMN(\n",
    "      x_L = np.linspace(-5, 5, 50), \n",
    "      y_M = np.linspace(0, 10, 75), \n",
    "      z_N = np.linspace(-20, 20, 100)):\n",
    "    xx, yy, zz = np.meshgrid(x_L,y_M,z_N, indexing = 'xy')\n",
    "    return xx + yy + zz\n",
    "\n",
    "kamodo = Kamodo(f_LMN = f_LMN, g_LMN = f_LMN)\n",
    "kamodo"
   ]
  },
  {
   "cell_type": "code",
   "execution_count": 35,
   "metadata": {},
   "outputs": [],
   "source": [
    "fig = kamodo.plot(f_LMN = dict(z_N = 0), \n",
    "                  g_LMN = dict(y_M = 5))"
   ]
  },
  {
   "cell_type": "code",
   "execution_count": 36,
   "metadata": {},
   "outputs": [],
   "source": [
    "# pio.write_image(fig, 'images/multi-trace3d.svg')"
   ]
  },
  {
   "cell_type": "markdown",
   "metadata": {},
   "source": [
    "![multi3d](images/multi-trace3d.svg)"
   ]
  },
  {
   "cell_type": "markdown",
   "metadata": {
    "slideshow": {
     "slide_type": "skip"
    }
   },
   "source": [
    "!!! bug\n",
    "    Multiple traces results in different colorbars which may overlap. More control over the layout will be available in future updates. "
   ]
  },
  {
   "cell_type": "markdown",
   "metadata": {},
   "source": [
    "# Interactive Plotting"
   ]
  },
  {
   "cell_type": "markdown",
   "metadata": {},
   "source": [
    "For interactive 3d plots, we take advantage of Plotly's in-browser plotting library."
   ]
  },
  {
   "cell_type": "code",
   "execution_count": 37,
   "metadata": {},
   "outputs": [],
   "source": [
    "from plotly.offline import iplot, plot, init_notebook_mode"
   ]
  },
  {
   "cell_type": "markdown",
   "metadata": {},
   "source": [
    "To generate a separate interactive html page, use `iplot` instead of `plot`:"
   ]
  },
  {
   "cell_type": "code",
   "execution_count": 38,
   "metadata": {},
   "outputs": [],
   "source": [
    "# plot(fig, filename = 'sample_plot.html') #uncomment to render 3D interactive plot in this cell "
   ]
  },
  {
   "cell_type": "markdown",
   "metadata": {},
   "source": [
    "navigate to the 3d interactive plot: [sample_plot.html](sample_plot.html)."
   ]
  },
  {
   "cell_type": "markdown",
   "metadata": {},
   "source": [
    "Alternatively, you may work with interactive plots directly in jupyter notebooks:"
   ]
  },
  {
   "cell_type": "code",
   "execution_count": 39,
   "metadata": {},
   "outputs": [],
   "source": [
    "# init_notebook_mode() # uncomment to initialize plotly for notebook\n",
    "# iplot(fig) #uncomment to render 3D interactive plot in this cell "
   ]
  },
  {
   "cell_type": "markdown",
   "metadata": {},
   "source": [
    "!!! note\n",
    "    We have commented out the above lines because they do not render properly on the documentation server, but rest assured they do work!"
   ]
  }
 ],
 "metadata": {
  "kernelspec": {
   "display_name": "Python 3 (ipykernel)",
   "language": "python",
   "name": "python3"
  },
  "language_info": {
   "codemirror_mode": {
    "name": "ipython",
    "version": 3
   },
   "file_extension": ".py",
   "mimetype": "text/x-python",
   "name": "python",
   "nbconvert_exporter": "python",
   "pygments_lexer": "ipython3",
   "version": "3.11.5"
  }
 },
 "nbformat": 4,
 "nbformat_minor": 4
}
