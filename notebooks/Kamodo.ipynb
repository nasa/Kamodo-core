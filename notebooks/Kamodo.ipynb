{
 "cells": [
  {
   "cell_type": "markdown",
   "metadata": {},
   "source": [
    "## Overview\n",
    "\n",
    "Kamodo provides a *functional* interface for space weather analysis, visualization, and knowledge discovery, allowing many problems in scientific data analysis to be posed in terms of function composition and evaluation. We'll walk through its general features here."
   ]
  },
  {
   "cell_type": "markdown",
   "metadata": {},
   "source": [
    "##  Kamodo objects\n",
    "\n",
    "Users primarily interact with models and data through Kamodo objects. "
   ]
  },
  {
   "cell_type": "code",
   "execution_count": 1,
   "metadata": {},
   "outputs": [],
   "source": [
    "from kamodo import Kamodo"
   ]
  },
  {
   "cell_type": "markdown",
   "metadata": {},
   "source": [
    "### Function registration\n",
    "Kamodo objects are essentially python dictionaries storing variable symbols as keys and their interpolating functions as values. New functions may be registered either at the initialization of the Kamodo object or later using dictionary bracket syntax."
   ]
  },
  {
   "cell_type": "code",
   "execution_count": 2,
   "metadata": {},
   "outputs": [
    {
     "data": {
      "text/latex": [
       "\\begin{equation}f{\\left(x \\right)} = x^{2}\\end{equation}"
      ],
      "text/plain": [
       "{f(x): <function _lambdifygenerated at 0x10f9b47c0>, f: <function _lambdifygenerated at 0x10f9b47c0>}"
      ]
     },
     "execution_count": 2,
     "metadata": {},
     "output_type": "execute_result"
    }
   ],
   "source": [
    "kamodo = Kamodo(f = 'x**2')\n",
    "kamodo"
   ]
  },
  {
   "cell_type": "code",
   "execution_count": 3,
   "metadata": {},
   "outputs": [
    {
     "data": {
      "text/plain": [
       "9"
      ]
     },
     "execution_count": 3,
     "metadata": {},
     "output_type": "execute_result"
    }
   ],
   "source": [
    "kamodo.f(3)"
   ]
  },
  {
   "cell_type": "code",
   "execution_count": 4,
   "metadata": {},
   "outputs": [
    {
     "data": {
      "text/latex": [
       "\\begin{equation}x{\\left(t \\right)} = t^{2}\\end{equation} \\begin{equation}g{\\left(y \\right)} = y - 1\\end{equation}"
      ],
      "text/plain": [
       "{x(t): <function _lambdifygenerated at 0x13ee21800>, x: <function _lambdifygenerated at 0x13ee21800>, g(y): <function _lambdifygenerated at 0x13ee21c60>, g: <function _lambdifygenerated at 0x13ee21c60>}"
      ]
     },
     "execution_count": 4,
     "metadata": {},
     "output_type": "execute_result"
    }
   ],
   "source": [
    "kamodo = Kamodo('$x = t^2$')\n",
    "kamodo['g'] = 'y-1'\n",
    "kamodo"
   ]
  },
  {
   "cell_type": "code",
   "execution_count": 5,
   "metadata": {},
   "outputs": [
    {
     "data": {
      "text/plain": [
       "2"
      ]
     },
     "execution_count": 5,
     "metadata": {},
     "output_type": "execute_result"
    }
   ],
   "source": [
    "kamodo.g(3)"
   ]
  },
  {
   "cell_type": "markdown",
   "metadata": {},
   "source": [
    "### Function composition\n",
    "Kamodo automatically composes functions through specifying on the right-hand-side."
   ]
  },
  {
   "cell_type": "code",
   "execution_count": 6,
   "metadata": {},
   "outputs": [
    {
     "data": {
      "text/latex": [
       "\\begin{equation}x{\\left(t \\right)} = t^{2}\\end{equation} \\begin{equation}g{\\left(y \\right)} = y - 1\\end{equation} \\begin{equation}f{\\left(t \\right)} = g{\\left(x{\\left(t \\right)} \\right)}\\end{equation}"
      ],
      "text/plain": [
       "{x(t): <function _lambdifygenerated at 0x13ee21800>, x: <function _lambdifygenerated at 0x13ee21800>, g(y): <function _lambdifygenerated at 0x13ee21c60>, g: <function _lambdifygenerated at 0x13ee21c60>, f(t): <function _lambdifygenerated at 0x13ee228e0>, f: <function _lambdifygenerated at 0x13ee228e0>}"
      ]
     },
     "execution_count": 6,
     "metadata": {},
     "output_type": "execute_result"
    }
   ],
   "source": [
    "kamodo['f'] = 'g(x)'\n",
    "kamodo"
   ]
  },
  {
   "cell_type": "markdown",
   "metadata": {},
   "source": [
    "Here we have defined two functions $x(t)$, $g(y)$, and the composition $g∘f$. Kamodo was able to determine that $f$ is implicitly a function of $t$ even though we did not say so in $f$'s declaration."
   ]
  },
  {
   "cell_type": "markdown",
   "metadata": {},
   "source": [
    "#### Function evaluation\n",
    "Kamodo uses sympy's ```lambdify``` function to turn the above equations into highly optimized functions for numerical evaluation. We may evaluate $f(t)$ for $t=3$ using \"dot\" notation:"
   ]
  },
  {
   "cell_type": "code",
   "execution_count": 7,
   "metadata": {},
   "outputs": [
    {
     "data": {
      "text/plain": [
       "8"
      ]
     },
     "execution_count": 7,
     "metadata": {},
     "output_type": "execute_result"
    }
   ],
   "source": [
    "kamodo.f(3)"
   ]
  },
  {
   "cell_type": "code",
   "execution_count": 8,
   "metadata": {},
   "outputs": [
    {
     "name": "stdout",
     "output_type": "stream",
     "text": [
      "Help on function _lambdifygenerated:\n",
      "\n",
      "_lambdifygenerated(y)\n",
      "    Created with lambdify. Signature:\n",
      "    \n",
      "    func(y)\n",
      "    \n",
      "    Expression:\n",
      "    \n",
      "    y - 1\n",
      "    \n",
      "    Source code:\n",
      "    \n",
      "    def _lambdifygenerated(y):\n",
      "        return (y - 1)\n",
      "    \n",
      "    \n",
      "    Imported modules:\n",
      "\n"
     ]
    }
   ],
   "source": [
    "help(kamodo.g)"
   ]
  },
  {
   "cell_type": "markdown",
   "metadata": {},
   "source": [
    "where the return type is a numpy array. We could also have passed in a numpy array and the result shares the same shape:"
   ]
  },
  {
   "cell_type": "code",
   "execution_count": 9,
   "metadata": {},
   "outputs": [],
   "source": [
    "import numpy as np\n",
    "t = np.linspace(-5, 5, 100000)\n",
    "result = kamodo.f(t)"
   ]
  },
  {
   "cell_type": "code",
   "execution_count": 10,
   "metadata": {},
   "outputs": [],
   "source": [
    "assert(t.shape == result.shape)"
   ]
  },
  {
   "cell_type": "markdown",
   "metadata": {},
   "source": [
    "### Unit conversion\n",
    "Kamodo automatically handles unit conversions. Simply declare units on the left-hand-side of expressions using bracket notation."
   ]
  },
  {
   "cell_type": "code",
   "execution_count": 11,
   "metadata": {},
   "outputs": [],
   "source": [
    "kamodo = Kamodo('mass[kg] = x', 'vol[m^3] = y')"
   ]
  },
  {
   "cell_type": "code",
   "execution_count": 12,
   "metadata": {},
   "outputs": [
    {
     "data": {
      "text/latex": [
       "\\begin{equation}\\operatorname{mass}{\\left(x \\right)}[kg] = x\\end{equation} \\begin{equation}\\operatorname{vol}{\\left(y \\right)}[m^{3}] = y\\end{equation}"
      ],
      "text/plain": [
       "{mass(x): <function _lambdifygenerated at 0x13ec6c720>, mass: <function _lambdifygenerated at 0x13ec6c720>, vol(y): <function _lambdifygenerated at 0x13efd4180>, vol: <function _lambdifygenerated at 0x13efd4180>}"
      ]
     },
     "execution_count": 12,
     "metadata": {},
     "output_type": "execute_result"
    }
   ],
   "source": [
    "kamodo"
   ]
  },
  {
   "cell_type": "markdown",
   "metadata": {},
   "source": [
    "Unless specified, Kamodo will assign the units for newly defined variables:"
   ]
  },
  {
   "cell_type": "code",
   "execution_count": 13,
   "metadata": {},
   "outputs": [
    {
     "data": {
      "text/latex": [
       "\\begin{equation}\\operatorname{mass}{\\left(x \\right)}[kg] = x\\end{equation} \\begin{equation}\\operatorname{vol}{\\left(y \\right)}[m^{3}] = y\\end{equation} \\begin{equation}\\rho{\\left(x,y \\right)}[\\frac{kg}{m^{3}}] = \\frac{\\operatorname{mass}{\\left(x \\right)}}{\\operatorname{vol}{\\left(y \\right)}}\\end{equation}"
      ],
      "text/plain": [
       "{mass(x): <function _lambdifygenerated at 0x13ec6c720>, mass: <function _lambdifygenerated at 0x13ec6c720>, vol(y): <function _lambdifygenerated at 0x13efd4180>, vol: <function _lambdifygenerated at 0x13efd4180>, rho(x, y): <function _lambdifygenerated at 0x13ee23ba0>, rho: <function _lambdifygenerated at 0x13ee23ba0>}"
      ]
     },
     "execution_count": 13,
     "metadata": {},
     "output_type": "execute_result"
    }
   ],
   "source": [
    "kamodo['rho'] = 'mass/vol'\n",
    "kamodo"
   ]
  },
  {
   "cell_type": "markdown",
   "metadata": {},
   "source": [
    "We may override the default behavior by simply naming the our chosen units in the left hand side."
   ]
  },
  {
   "cell_type": "code",
   "execution_count": 14,
   "metadata": {},
   "outputs": [
    {
     "data": {
      "text/latex": [
       "\\begin{equation}\\operatorname{mass}{\\left(x \\right)}[kg] = x\\end{equation} \\begin{equation}\\operatorname{vol}{\\left(y \\right)}[m^{3}] = y\\end{equation} \\begin{equation}\\rho{\\left(x,y \\right)}[\\frac{g}{cm^{3}}] = \\frac{\\operatorname{mass}{\\left(x \\right)}}{1000 \\operatorname{vol}{\\left(y \\right)}}\\end{equation}"
      ],
      "text/plain": [
       "{mass(x): <function _lambdifygenerated at 0x13ec6c720>, mass: <function _lambdifygenerated at 0x13ec6c720>, vol(y): <function _lambdifygenerated at 0x13efd4180>, vol: <function _lambdifygenerated at 0x13efd4180>, rho(x, y): <function _lambdifygenerated at 0x13ee23ba0>, rho: <function _lambdifygenerated at 0x13ee23ba0>, rho(x, y): <function _lambdifygenerated at 0x13ec6d3a0>, rho: <function _lambdifygenerated at 0x13ec6d3a0>}"
      ]
     },
     "execution_count": 14,
     "metadata": {},
     "output_type": "execute_result"
    }
   ],
   "source": [
    "kamodo['rho(x,y)[g/cm^3]'] = 'mass/vol'\n",
    "kamodo"
   ]
  },
  {
   "cell_type": "markdown",
   "metadata": {},
   "source": [
    "!!! note\n",
    "    Kamodo will raise an error if the left and right-hand-side units are incompatible."
   ]
  },
  {
   "cell_type": "markdown",
   "metadata": {},
   "source": [
    "Even though generated functions are unitless, the units are clearly displayed on the lhs. We think this is a good trade-off between performance and legibility."
   ]
  },
  {
   "cell_type": "code",
   "execution_count": 15,
   "metadata": {},
   "outputs": [
    {
     "data": {
      "text/html": [
       "<div>\n",
       "<style scoped>\n",
       "    .dataframe tbody tr th:only-of-type {\n",
       "        vertical-align: middle;\n",
       "    }\n",
       "\n",
       "    .dataframe tbody tr th {\n",
       "        vertical-align: top;\n",
       "    }\n",
       "\n",
       "    .dataframe thead th {\n",
       "        text-align: right;\n",
       "    }\n",
       "</style>\n",
       "<table border=\"1\" class=\"dataframe\">\n",
       "  <thead>\n",
       "    <tr style=\"text-align: right;\">\n",
       "      <th></th>\n",
       "      <th>symbol</th>\n",
       "      <th>units</th>\n",
       "      <th>lhs</th>\n",
       "      <th>rhs</th>\n",
       "      <th>arg_units</th>\n",
       "    </tr>\n",
       "  </thead>\n",
       "  <tbody>\n",
       "    <tr>\n",
       "      <th>mass</th>\n",
       "      <td>mass(x)</td>\n",
       "      <td>kg</td>\n",
       "      <td>mass</td>\n",
       "      <td>x</td>\n",
       "      <td>{}</td>\n",
       "    </tr>\n",
       "    <tr>\n",
       "      <th>vol</th>\n",
       "      <td>vol(y)</td>\n",
       "      <td>m**3</td>\n",
       "      <td>vol</td>\n",
       "      <td>y</td>\n",
       "      <td>{}</td>\n",
       "    </tr>\n",
       "    <tr>\n",
       "      <th>rho</th>\n",
       "      <td>rho(x, y)</td>\n",
       "      <td>g/cm**3</td>\n",
       "      <td>rho(x, y)</td>\n",
       "      <td>mass(x)/(1000*vol(y))</td>\n",
       "      <td>{'x': 'cm**(-3)', 'y': 'g'}</td>\n",
       "    </tr>\n",
       "  </tbody>\n",
       "</table>\n",
       "</div>"
      ],
      "text/plain": [
       "         symbol    units        lhs                    rhs  \\\n",
       "mass    mass(x)       kg       mass                      x   \n",
       "vol      vol(y)     m**3        vol                      y   \n",
       "rho   rho(x, y)  g/cm**3  rho(x, y)  mass(x)/(1000*vol(y))   \n",
       "\n",
       "                        arg_units  \n",
       "mass                           {}  \n",
       "vol                            {}  \n",
       "rho   {'x': 'cm**(-3)', 'y': 'g'}  "
      ]
     },
     "execution_count": 15,
     "metadata": {},
     "output_type": "execute_result"
    }
   ],
   "source": [
    "kamodo.detail()"
   ]
  },
  {
   "cell_type": "code",
   "execution_count": 16,
   "metadata": {},
   "outputs": [
    {
     "data": {
      "text/plain": [
       "0.00075"
      ]
     },
     "execution_count": 16,
     "metadata": {},
     "output_type": "execute_result"
    }
   ],
   "source": [
    "kamodo.rho(3,4)"
   ]
  },
  {
   "cell_type": "markdown",
   "metadata": {},
   "source": [
    "We can verify that kamodo produces the correct output upon evaluation."
   ]
  },
  {
   "cell_type": "code",
   "execution_count": 17,
   "metadata": {},
   "outputs": [],
   "source": [
    "assert(kamodo.rho(3,8) == (3*1000.)/(8*100**3))"
   ]
  },
  {
   "cell_type": "markdown",
   "metadata": {},
   "source": [
    "### Variable naming conventions\n",
    "\n",
    "Kamodo allows for a wide array of variable names to suite your problem space, including greek, subscripts, superscripts."
   ]
  },
  {
   "cell_type": "code",
   "execution_count": 18,
   "metadata": {},
   "outputs": [
    {
     "data": {
      "text/latex": [
       "\\begin{equation}\\rho{\\left(\\alpha,\\beta,\\gamma \\right)} = \\alpha + \\beta + \\gamma\\end{equation} \\begin{equation}\\vec{r}{\\left(t \\right)} = t\\end{equation} \\begin{equation}\\operatorname{{f}'}{\\left(x \\right)} = x\\end{equation} \\begin{equation}\\vec{x}_{i}{\\left(\\vec{x}_{i-1} \\right)} = \\vec{x}_{i-1} + 1\\end{equation} \\begin{equation}\\operatorname{F^{gravity}}{\\left(G,M,R,m \\right)} = \\frac{G M m}{R^{2}}\\end{equation}"
      ],
      "text/plain": [
       "{rho(ALPHA, BETA, GAMMA): <function _lambdifygenerated at 0x13efd7ce0>, rho: <function _lambdifygenerated at 0x13efd7ce0>, rvec(t): <function _lambdifygenerated at 0x13f0284a0>, rvec: <function _lambdifygenerated at 0x13f0284a0>, fprime(x): <function _lambdifygenerated at 0x13f028860>, fprime: <function _lambdifygenerated at 0x13f028860>, xvec_i(xvec_iminus1): <function _lambdifygenerated at 0x13f028c20>, xvec_i: <function _lambdifygenerated at 0x13f028c20>, F__gravity(G, M, R, m): <function _lambdifygenerated at 0x13ee23b00>, F__gravity: <function _lambdifygenerated at 0x13ee23b00>}"
      ]
     },
     "execution_count": 18,
     "metadata": {},
     "output_type": "execute_result"
    }
   ],
   "source": [
    "kamodo = Kamodo(\n",
    "    'rho = ALPHA+BETA+GAMMA',\n",
    "    'rvec = t',\n",
    "    'fprime = x',\n",
    "    'xvec_i = xvec_iminus1 + 1',\n",
    "    'F__gravity = G*M*m/R**2',\n",
    ")\n",
    "kamodo"
   ]
  },
  {
   "cell_type": "markdown",
   "metadata": {},
   "source": [
    "For more details on variable naming conventions, see the [Syntax](../Syntax/) section."
   ]
  },
  {
   "cell_type": "markdown",
   "metadata": {},
   "source": [
    "### Lambda functions\n",
    "\n",
    "Kamodo borrows heavily from functional programing techniques, including use of the [\"lambda\" function](https://en.wikipedia.org/wiki/Anonymous_function), an abstract representation of a function. Think of the lambda as a placeholder when no closed-form expression may be given for a registered function.\n",
    "\n",
    "In the example below, the function `rho` contains an implementation which may be hidden from the end user. In this case, it simply hands the argument off to another library."
   ]
  },
  {
   "cell_type": "code",
   "execution_count": 19,
   "metadata": {},
   "outputs": [],
   "source": [
    "def rho(x):\n",
    "    return np.sin(x)"
   ]
  },
  {
   "cell_type": "markdown",
   "metadata": {},
   "source": [
    "When registering the above function as part of a Kamodo object, Kamodo will assign the greek letter $\\rho$ to the left-hand-side following the [Syntax Conventions](../Syntax/). For the right hand side the generic $\\lambda(x)$ is used to signify that no [closed-form expression](https://en.wikipedia.org/wiki/Closed-form_expression) is available."
   ]
  },
  {
   "cell_type": "code",
   "execution_count": 20,
   "metadata": {},
   "outputs": [
    {
     "data": {
      "text/latex": [
       "\\begin{equation}\\rho{\\left(x \\right)} = \\lambda{\\left(x \\right)}\\end{equation}"
      ],
      "text/plain": [
       "{rho(x): <function rho at 0x13f0298a0>, rho: <function rho at 0x13f0298a0>}"
      ]
     },
     "execution_count": 20,
     "metadata": {},
     "output_type": "execute_result"
    }
   ],
   "source": [
    "Kamodo(rho = rho)"
   ]
  },
  {
   "cell_type": "markdown",
   "metadata": {},
   "source": [
    "If a function author wishes to provide a placeholder expression for the right-hand-side, they may do so using the `@kamodofy` decorator below."
   ]
  },
  {
   "cell_type": "markdown",
   "metadata": {},
   "source": [
    "## @kamodofy Decorator\n",
    "\n",
    "Many functions can not be written as simple mathematical expressions - they could represent simulation output or observational data. For this reason, we provide a ```@kamodofy``` decorator, which turns any callable function into a kamodo-compatible variable and adds metadata that enables unit conversion."
   ]
  },
  {
   "cell_type": "code",
   "execution_count": 21,
   "metadata": {},
   "outputs": [
    {
     "data": {
      "text/latex": [
       "\\begin{equation}\\rho{\\left(x,y \\right)}[\\frac{kg}{m^{3}}] = x+y\\end{equation} \\begin{equation}\\operatorname{den}{\\left(x,y \\right)}[\\frac{g}{cm^{3}}] = \\frac{\\rho{\\left(x,y \\right)}}{1000}\\end{equation}"
      ],
      "text/plain": [
       "{rho(x, y): <function rho at 0x13f02a160>, rho: <function rho at 0x13f02a160>, den(x, y): <function _lambdifygenerated at 0x13f029440>, den: <function _lambdifygenerated at 0x13f029440>}"
      ]
     },
     "execution_count": 21,
     "metadata": {},
     "output_type": "execute_result"
    }
   ],
   "source": [
    "from kamodo import kamodofy, Kamodo\n",
    "import numpy as np\n",
    "\n",
    "@kamodofy(units = 'kg/m**3', citation = 'Bob et. al, 2018', equation='x+y') \n",
    "def rho(x = np.array([3,4,5]), y = np.array([1,2,3])):\n",
    "    \"\"\"A function that computes density\"\"\"\n",
    "    return x+y\n",
    "\n",
    "kamodo = Kamodo(rho = rho)\n",
    "kamodo['den[g/cm^3]'] = 'rho'\n",
    "kamodo"
   ]
  },
  {
   "cell_type": "code",
   "execution_count": 22,
   "metadata": {},
   "outputs": [
    {
     "data": {
      "text/plain": [
       "0.007"
      ]
     },
     "execution_count": 22,
     "metadata": {},
     "output_type": "execute_result"
    }
   ],
   "source": [
    "kamodo.den(3,4)"
   ]
  },
  {
   "cell_type": "code",
   "execution_count": 23,
   "metadata": {},
   "outputs": [
    {
     "data": {
      "text/plain": [
       "{'units': 'kg/m**3',\n",
       " 'arg_units': None,\n",
       " 'citation': 'Bob et. al, 2018',\n",
       " 'equation': 'x+y',\n",
       " 'hidden_args': []}"
      ]
     },
     "execution_count": 23,
     "metadata": {},
     "output_type": "execute_result"
    }
   ],
   "source": [
    "kamodo.rho.meta # PyHC standard"
   ]
  },
  {
   "cell_type": "code",
   "execution_count": 24,
   "metadata": {},
   "outputs": [
    {
     "data": {
      "text/plain": [
       "array([4, 6, 8])"
      ]
     },
     "execution_count": 24,
     "metadata": {},
     "output_type": "execute_result"
    }
   ],
   "source": [
    "kamodo.rho()"
   ]
  },
  {
   "cell_type": "code",
   "execution_count": 25,
   "metadata": {},
   "outputs": [
    {
     "data": {
      "text/plain": [
       "array([4, 6, 8])"
      ]
     },
     "execution_count": 25,
     "metadata": {},
     "output_type": "execute_result"
    }
   ],
   "source": [
    "kamodo.rho.data # PyHC standard"
   ]
  },
  {
   "cell_type": "markdown",
   "metadata": {},
   "source": [
    "Original function doc strings and signatures passed through"
   ]
  },
  {
   "cell_type": "code",
   "execution_count": 26,
   "metadata": {},
   "outputs": [
    {
     "name": "stdout",
     "output_type": "stream",
     "text": [
      "Help on function rho in module __main__:\n",
      "\n",
      "rho(x=array([3, 4, 5]), y=array([1, 2, 3]))\n",
      "    A function that computes density\n",
      "    \n",
      "    citation: Bob et. al, 2018\n",
      "\n"
     ]
    }
   ],
   "source": [
    "help(kamodo.rho)"
   ]
  },
  {
   "cell_type": "code",
   "execution_count": 27,
   "metadata": {},
   "outputs": [
    {
     "data": {
      "text/html": [
       "<div>\n",
       "<style scoped>\n",
       "    .dataframe tbody tr th:only-of-type {\n",
       "        vertical-align: middle;\n",
       "    }\n",
       "\n",
       "    .dataframe tbody tr th {\n",
       "        vertical-align: top;\n",
       "    }\n",
       "\n",
       "    .dataframe thead th {\n",
       "        text-align: right;\n",
       "    }\n",
       "</style>\n",
       "<table border=\"1\" class=\"dataframe\">\n",
       "  <thead>\n",
       "    <tr style=\"text-align: right;\">\n",
       "      <th></th>\n",
       "      <th>symbol</th>\n",
       "      <th>units</th>\n",
       "      <th>lhs</th>\n",
       "      <th>rhs</th>\n",
       "      <th>arg_units</th>\n",
       "    </tr>\n",
       "  </thead>\n",
       "  <tbody>\n",
       "    <tr>\n",
       "      <th>rho</th>\n",
       "      <td>rho(x, y)</td>\n",
       "      <td>kg/m**3</td>\n",
       "      <td>rho</td>\n",
       "      <td>x+y</td>\n",
       "      <td>None</td>\n",
       "    </tr>\n",
       "    <tr>\n",
       "      <th>den</th>\n",
       "      <td>den(x, y)</td>\n",
       "      <td>g/cm**3</td>\n",
       "      <td>den</td>\n",
       "      <td>rho(x, y)/1000</td>\n",
       "      <td>{}</td>\n",
       "    </tr>\n",
       "  </tbody>\n",
       "</table>\n",
       "</div>"
      ],
      "text/plain": [
       "        symbol    units  lhs             rhs arg_units\n",
       "rho  rho(x, y)  kg/m**3  rho             x+y      None\n",
       "den  den(x, y)  g/cm**3  den  rho(x, y)/1000        {}"
      ]
     },
     "execution_count": 27,
     "metadata": {},
     "output_type": "execute_result"
    }
   ],
   "source": [
    "kamodo.detail()"
   ]
  },
  {
   "cell_type": "markdown",
   "metadata": {},
   "source": [
    "# Visualization\n",
    "\n",
    "Kamodo graphs are generated directly from function signatures by examining the structure of both output and input arguments. "
   ]
  },
  {
   "cell_type": "code",
   "execution_count": 28,
   "metadata": {
    "scrolled": true
   },
   "outputs": [
    {
     "data": {
      "text/html": [
       "<div>\n",
       "<style scoped>\n",
       "    .dataframe tbody tr th:only-of-type {\n",
       "        vertical-align: middle;\n",
       "    }\n",
       "\n",
       "    .dataframe tbody tr th {\n",
       "        vertical-align: top;\n",
       "    }\n",
       "\n",
       "    .dataframe thead th {\n",
       "        text-align: right;\n",
       "    }\n",
       "</style>\n",
       "<table border=\"1\" class=\"dataframe\">\n",
       "  <thead>\n",
       "    <tr style=\"text-align: right;\">\n",
       "      <th></th>\n",
       "      <th></th>\n",
       "      <th>plot_type</th>\n",
       "      <th>function</th>\n",
       "    </tr>\n",
       "    <tr>\n",
       "      <th>out_shape</th>\n",
       "      <th>arg_shapes</th>\n",
       "      <th></th>\n",
       "      <th></th>\n",
       "    </tr>\n",
       "  </thead>\n",
       "  <tbody>\n",
       "    <tr>\n",
       "      <th>(1,)</th>\n",
       "      <th>((N, M), (N, M), (N, M))</th>\n",
       "      <td>3d-parametric</td>\n",
       "      <td>plotting.surface</td>\n",
       "    </tr>\n",
       "    <tr>\n",
       "      <th rowspan=\"4\" valign=\"top\">(N,)</th>\n",
       "      <th>((N,),)</th>\n",
       "      <td>1d-line</td>\n",
       "      <td>plotting.line_plot</td>\n",
       "    </tr>\n",
       "    <tr>\n",
       "      <th>((N,), (N,))</th>\n",
       "      <td>2d-line-scalar</td>\n",
       "      <td>plotting.line_plot</td>\n",
       "    </tr>\n",
       "    <tr>\n",
       "      <th>((N,), (N,), (N,))</th>\n",
       "      <td>3d-line-scalar</td>\n",
       "      <td>plotting.line_plot</td>\n",
       "    </tr>\n",
       "    <tr>\n",
       "      <th>((N, 3),)</th>\n",
       "      <td>3d scatter</td>\n",
       "      <td>plotting.scatter_plot</td>\n",
       "    </tr>\n",
       "    <tr>\n",
       "      <th rowspan=\"2\" valign=\"top\">(N, 2)</th>\n",
       "      <th>((N,),)</th>\n",
       "      <td>2d-line</td>\n",
       "      <td>plotting.line_plot</td>\n",
       "    </tr>\n",
       "    <tr>\n",
       "      <th>((N, 2),)</th>\n",
       "      <td>2d-vector</td>\n",
       "      <td>plotting.vector_plot</td>\n",
       "    </tr>\n",
       "    <tr>\n",
       "      <th rowspan=\"3\" valign=\"top\">(N, 3)</th>\n",
       "      <th>((N,),)</th>\n",
       "      <td>3d-line</td>\n",
       "      <td>plotting.line_plot</td>\n",
       "    </tr>\n",
       "    <tr>\n",
       "      <th>((N, 3),)</th>\n",
       "      <td>3d-vector</td>\n",
       "      <td>plotting.vector_plot</td>\n",
       "    </tr>\n",
       "    <tr>\n",
       "      <th>((M,), (M,), (M,))</th>\n",
       "      <td>3d-tri-surface</td>\n",
       "      <td>plotting.tri_surface_plot</td>\n",
       "    </tr>\n",
       "    <tr>\n",
       "      <th>(N, N)</th>\n",
       "      <th>((N,), (N,))</th>\n",
       "      <td>2d-contour</td>\n",
       "      <td>plotting.contour_plot</td>\n",
       "    </tr>\n",
       "    <tr>\n",
       "      <th rowspan=\"7\" valign=\"top\">(N, M)</th>\n",
       "      <th>((N,), (M,))</th>\n",
       "      <td>2d-contour</td>\n",
       "      <td>plotting.contour_plot</td>\n",
       "    </tr>\n",
       "    <tr>\n",
       "      <th>((M,), (N,))</th>\n",
       "      <td>2d-contour</td>\n",
       "      <td>plotting.contour_plot</td>\n",
       "    </tr>\n",
       "    <tr>\n",
       "      <th>((N, M), (N, M))</th>\n",
       "      <td>2d-contour-skew</td>\n",
       "      <td>plotting.contour_plot</td>\n",
       "    </tr>\n",
       "    <tr>\n",
       "      <th>((N, M), (N, M), (N, M))</th>\n",
       "      <td>3d-parametric-scalar</td>\n",
       "      <td>plotting.surface</td>\n",
       "    </tr>\n",
       "    <tr>\n",
       "      <th>((1,), (N, M), (N, M))</th>\n",
       "      <td>3d-plane</td>\n",
       "      <td>plotting.plane</td>\n",
       "    </tr>\n",
       "    <tr>\n",
       "      <th>((N, M), (1,), (N, M))</th>\n",
       "      <td>3d-plane</td>\n",
       "      <td>plotting.plane</td>\n",
       "    </tr>\n",
       "    <tr>\n",
       "      <th>((N, M), (N, M), (1,))</th>\n",
       "      <td>3d-plane</td>\n",
       "      <td>plotting.plane</td>\n",
       "    </tr>\n",
       "    <tr>\n",
       "      <th rowspan=\"2\" valign=\"top\">(N, 1, M)</th>\n",
       "      <th>((N,), (1,), (M,))</th>\n",
       "      <td>3d-plane</td>\n",
       "      <td>plotting.plane</td>\n",
       "    </tr>\n",
       "    <tr>\n",
       "      <th>((1,), (N,), (M,))</th>\n",
       "      <td>3d-plane</td>\n",
       "      <td>plotting.plane</td>\n",
       "    </tr>\n",
       "    <tr>\n",
       "      <th>(1, N, M)</th>\n",
       "      <th>((N,), (1,), (M,))</th>\n",
       "      <td>3d-plane</td>\n",
       "      <td>plotting.plane</td>\n",
       "    </tr>\n",
       "    <tr>\n",
       "      <th rowspan=\"4\" valign=\"top\">(N, M, 1)</th>\n",
       "      <th>((1,), (N,), (M,))</th>\n",
       "      <td>3d-plane</td>\n",
       "      <td>plotting.plane</td>\n",
       "    </tr>\n",
       "    <tr>\n",
       "      <th>((N,), (1,), (M,))</th>\n",
       "      <td>3d-plane</td>\n",
       "      <td>plotting.plane</td>\n",
       "    </tr>\n",
       "    <tr>\n",
       "      <th>((N,), (M,), (1,))</th>\n",
       "      <td>3d-plane</td>\n",
       "      <td>plotting.plane</td>\n",
       "    </tr>\n",
       "    <tr>\n",
       "      <th>((M,), (N,), (1,))</th>\n",
       "      <td>3d-plane</td>\n",
       "      <td>plotting.plane</td>\n",
       "    </tr>\n",
       "    <tr>\n",
       "      <th>(N, M, 3)</th>\n",
       "      <th>((N,), (M,))</th>\n",
       "      <td>image</td>\n",
       "      <td>plotting.image</td>\n",
       "    </tr>\n",
       "  </tbody>\n",
       "</table>\n",
       "</div>"
      ],
      "text/plain": [
       "                                               plot_type  \\\n",
       "out_shape arg_shapes                                       \n",
       "(1,)      ((N, M), (N, M), (N, M))         3d-parametric   \n",
       "(N,)      ((N,),)                                1d-line   \n",
       "          ((N,), (N,))                    2d-line-scalar   \n",
       "          ((N,), (N,), (N,))              3d-line-scalar   \n",
       "          ((N, 3),)                           3d scatter   \n",
       "(N, 2)    ((N,),)                                2d-line   \n",
       "          ((N, 2),)                            2d-vector   \n",
       "(N, 3)    ((N,),)                                3d-line   \n",
       "          ((N, 3),)                            3d-vector   \n",
       "          ((M,), (M,), (M,))              3d-tri-surface   \n",
       "(N, N)    ((N,), (N,))                        2d-contour   \n",
       "(N, M)    ((N,), (M,))                        2d-contour   \n",
       "          ((M,), (N,))                        2d-contour   \n",
       "          ((N, M), (N, M))               2d-contour-skew   \n",
       "          ((N, M), (N, M), (N, M))  3d-parametric-scalar   \n",
       "          ((1,), (N, M), (N, M))                3d-plane   \n",
       "          ((N, M), (1,), (N, M))                3d-plane   \n",
       "          ((N, M), (N, M), (1,))                3d-plane   \n",
       "(N, 1, M) ((N,), (1,), (M,))                    3d-plane   \n",
       "          ((1,), (N,), (M,))                    3d-plane   \n",
       "(1, N, M) ((N,), (1,), (M,))                    3d-plane   \n",
       "(N, M, 1) ((1,), (N,), (M,))                    3d-plane   \n",
       "          ((N,), (1,), (M,))                    3d-plane   \n",
       "          ((N,), (M,), (1,))                    3d-plane   \n",
       "          ((M,), (N,), (1,))                    3d-plane   \n",
       "(N, M, 3) ((N,), (M,))                             image   \n",
       "\n",
       "                                                     function  \n",
       "out_shape arg_shapes                                           \n",
       "(1,)      ((N, M), (N, M), (N, M))           plotting.surface  \n",
       "(N,)      ((N,),)                          plotting.line_plot  \n",
       "          ((N,), (N,))                     plotting.line_plot  \n",
       "          ((N,), (N,), (N,))               plotting.line_plot  \n",
       "          ((N, 3),)                     plotting.scatter_plot  \n",
       "(N, 2)    ((N,),)                          plotting.line_plot  \n",
       "          ((N, 2),)                      plotting.vector_plot  \n",
       "(N, 3)    ((N,),)                          plotting.line_plot  \n",
       "          ((N, 3),)                      plotting.vector_plot  \n",
       "          ((M,), (M,), (M,))        plotting.tri_surface_plot  \n",
       "(N, N)    ((N,), (N,))                  plotting.contour_plot  \n",
       "(N, M)    ((N,), (M,))                  plotting.contour_plot  \n",
       "          ((M,), (N,))                  plotting.contour_plot  \n",
       "          ((N, M), (N, M))              plotting.contour_plot  \n",
       "          ((N, M), (N, M), (N, M))           plotting.surface  \n",
       "          ((1,), (N, M), (N, M))               plotting.plane  \n",
       "          ((N, M), (1,), (N, M))               plotting.plane  \n",
       "          ((N, M), (N, M), (1,))               plotting.plane  \n",
       "(N, 1, M) ((N,), (1,), (M,))                   plotting.plane  \n",
       "          ((1,), (N,), (M,))                   plotting.plane  \n",
       "(1, N, M) ((N,), (1,), (M,))                   plotting.plane  \n",
       "(N, M, 1) ((1,), (N,), (M,))                   plotting.plane  \n",
       "          ((N,), (1,), (M,))                   plotting.plane  \n",
       "          ((N,), (M,), (1,))                   plotting.plane  \n",
       "          ((M,), (N,), (1,))                   plotting.plane  \n",
       "(N, M, 3) ((N,), (M,))                         plotting.image  "
      ]
     },
     "execution_count": 28,
     "metadata": {},
     "output_type": "execute_result"
    }
   ],
   "source": [
    "from plotting import plot_types\n",
    "plot_types"
   ]
  },
  {
   "cell_type": "markdown",
   "metadata": {},
   "source": [
    "Kamodo uses [plotly](https://plot.ly/python/) for visualization, enabling a rich array of interactive graphs and easy web deployment."
   ]
  },
  {
   "cell_type": "code",
   "execution_count": 29,
   "metadata": {},
   "outputs": [
    {
     "data": {
      "text/html": [
       "        <script type=\"text/javascript\">\n",
       "        window.PlotlyConfig = {MathJaxConfig: 'local'};\n",
       "        if (window.MathJax && window.MathJax.Hub && window.MathJax.Hub.Config) {window.MathJax.Hub.Config({SVG: {font: \"STIX-Web\"}});}\n",
       "        if (typeof require !== 'undefined') {\n",
       "        require.undef(\"plotly\");\n",
       "        requirejs.config({\n",
       "            paths: {\n",
       "                'plotly': ['https://cdn.plot.ly/plotly-2.25.2.min']\n",
       "            }\n",
       "        });\n",
       "        require(['plotly'], function(Plotly) {\n",
       "            window._Plotly = Plotly;\n",
       "        });\n",
       "        }\n",
       "        </script>\n",
       "        "
      ]
     },
     "metadata": {},
     "output_type": "display_data"
    }
   ],
   "source": [
    "import plotly.io as pio\n",
    "from plotly.offline import iplot,plot, init_notebook_mode\n",
    "init_notebook_mode(connected=True)"
   ]
  },
  {
   "cell_type": "code",
   "execution_count": 30,
   "metadata": {},
   "outputs": [
    {
     "data": {
      "text/latex": [
       "\\begin{equation}\\rho{\\left(x,y \\right)}[\\frac{kg}{m^{3}}] = \\lambda{\\left(x,y \\right)}\\end{equation}"
      ],
      "text/plain": [
       "{rho(x, y): <function rho at 0x13fa176a0>, rho: <function rho at 0x13fa176a0>}"
      ]
     },
     "execution_count": 30,
     "metadata": {},
     "output_type": "execute_result"
    }
   ],
   "source": [
    "@kamodofy(units = 'kg/m^3')\n",
    "def rho(x = np.linspace(0,1, 20), y = np.linspace(-1, 1, 40)):\n",
    "    \"\"\"A function that computes density\"\"\"\n",
    "    x_, y_ = np.meshgrid(x,y)\n",
    "    return x_*y_\n",
    "\n",
    "kamodo = Kamodo(rho = rho)\n",
    "kamodo"
   ]
  },
  {
   "cell_type": "markdown",
   "metadata": {},
   "source": [
    "We will generate an image of this function using plotly"
   ]
  },
  {
   "cell_type": "code",
   "execution_count": 31,
   "metadata": {},
   "outputs": [],
   "source": [
    "fig = kamodo.plot('rho')\n",
    "# pio.write_image(fig, 'images/Kamodo_fig1.svg')"
   ]
  },
  {
   "cell_type": "markdown",
   "metadata": {},
   "source": [
    "![fig1](images/Kamodo_fig1.svg)"
   ]
  },
  {
   "cell_type": "markdown",
   "metadata": {},
   "source": [
    "See the [Visualization](../Visualization/) section for detailed examples."
   ]
  },
  {
   "cell_type": "markdown",
   "metadata": {},
   "source": [
    "## Latex I/O\n",
    "\n",
    "Even though math is the language of physics, most scientific analysis software requires you to learn new programing languages. Kamodo allows users to write their mathematical expressions in LaTeX, a typesetting language most scientists already know:"
   ]
  },
  {
   "cell_type": "code",
   "execution_count": 32,
   "metadata": {},
   "outputs": [
    {
     "data": {
      "text/latex": [
       "\\begin{equation}\\rho{\\left(x \\right)}[\\frac{kg}{m^{3}}] = x^{3}\\end{equation} \\begin{equation}v{\\left(y \\right)}[cm / s] = y^{2}\\end{equation} \\begin{equation}p{\\left(x,y \\right)}[Pa] = \\frac{\\rho{\\left(x \\right)} v^{2}{\\left(y \\right)}}{10000}\\end{equation}"
      ],
      "text/plain": [
       "{rho(x): <function _lambdifygenerated at 0x1400afd80>, rho: <function _lambdifygenerated at 0x1400afd80>, v(y): <function _lambdifygenerated at 0x1400afe20>, v: <function _lambdifygenerated at 0x1400afe20>, p(x, y): <function _lambdifygenerated at 0x1400af380>, p: <function _lambdifygenerated at 0x1400af380>}"
      ]
     },
     "execution_count": 32,
     "metadata": {},
     "output_type": "execute_result"
    }
   ],
   "source": [
    "kamodo = Kamodo('$rho[kg/m^3] = x^3$', '$v[cm/s] = y^2$')\n",
    "kamodo['p[Pa]'] = '$\\\\rho v^2$'\n",
    "kamodo"
   ]
  },
  {
   "cell_type": "markdown",
   "metadata": {},
   "source": []
  },
  {
   "cell_type": "markdown",
   "metadata": {},
   "source": [
    "The resulting equation set may also be exported as a LaTeX string for use in publications:"
   ]
  },
  {
   "cell_type": "code",
   "execution_count": 33,
   "metadata": {},
   "outputs": [
    {
     "name": "stdout",
     "output_type": "stream",
     "text": [
      "\\begin{equation}\\rho{\\left(x \\right)}[\\frac{kg}{m^{3}}] = x^{3}\\end{equation} \\begin{equation}v{\\left(y \\right)}[cm / s] = y^{2}\\end{equation} \\begin{equation}p{\\left(x,y \\right)}[Pa] = \\frac{\\rho{\\left(x \\right)} v^{2}{\\left(y \\right)}}{10000}\\end{equation}\n",
      ".\n"
     ]
    }
   ],
   "source": [
    "print(kamodo.to_latex() + '\\n.')"
   ]
  },
  {
   "cell_type": "markdown",
   "metadata": {},
   "source": [
    "# Simulation api\n",
    "\n",
    "Kamodo offers a simple api for functions composed of each other.\n",
    "\n",
    "Define variables as usual (order matters)."
   ]
  },
  {
   "cell_type": "code",
   "execution_count": 34,
   "metadata": {},
   "outputs": [
    {
     "data": {
      "text/latex": [
       "\\begin{equation}\\operatorname{y_{i+1}}{\\left(x_{i} \\right)} = x_{i} + 1\\end{equation} \\begin{equation}\\operatorname{x_{i+1}}{\\left(y_{i} \\right)} = y_{i} - 2\\end{equation}"
      ],
      "text/plain": [
       "{y_iplus1(x_i): <function _lambdifygenerated at 0x1400afb00>, y_iplus1: <function _lambdifygenerated at 0x1400afb00>, x_iplus1(y_i): <function _lambdifygenerated at 0x140125120>, x_iplus1: <function _lambdifygenerated at 0x140125120>}"
      ]
     },
     "execution_count": 34,
     "metadata": {},
     "output_type": "execute_result"
    }
   ],
   "source": [
    "kamodo = Kamodo()\n",
    "kamodo['y_iplus1'] = 'x_i + 1'\n",
    "kamodo['x_iplus1'] = 'y_i - 2'\n",
    "kamodo"
   ]
  },
  {
   "cell_type": "markdown",
   "metadata": {},
   "source": [
    "Now add the ```update``` attribute to map functions onto arguments."
   ]
  },
  {
   "cell_type": "code",
   "execution_count": 35,
   "metadata": {},
   "outputs": [],
   "source": [
    "kamodo.x_iplus1.update = 'x_i'\n",
    "kamodo.y_iplus1.update = 'y_i'"
   ]
  },
  {
   "cell_type": "markdown",
   "metadata": {},
   "source": [
    "Create a simulation with initial conditions"
   ]
  },
  {
   "cell_type": "code",
   "execution_count": 36,
   "metadata": {},
   "outputs": [
    {
     "data": {
      "text/plain": [
       "<generator object simulate at 0x13ff26c00>"
      ]
     },
     "execution_count": 36,
     "metadata": {},
     "output_type": "execute_result"
    }
   ],
   "source": [
    "simulation = kamodo.simulate(x_i = 0, steps = 5)\n",
    "simulation #an iterator of arg, val dictionaries"
   ]
  },
  {
   "cell_type": "markdown",
   "metadata": {},
   "source": [
    "Run the simulation by iterating through the generator."
   ]
  },
  {
   "cell_type": "code",
   "execution_count": 37,
   "metadata": {},
   "outputs": [
    {
     "data": {
      "text/html": [
       "<div>\n",
       "<style scoped>\n",
       "    .dataframe tbody tr th:only-of-type {\n",
       "        vertical-align: middle;\n",
       "    }\n",
       "\n",
       "    .dataframe tbody tr th {\n",
       "        vertical-align: top;\n",
       "    }\n",
       "\n",
       "    .dataframe thead th {\n",
       "        text-align: right;\n",
       "    }\n",
       "</style>\n",
       "<table border=\"1\" class=\"dataframe\">\n",
       "  <thead>\n",
       "    <tr style=\"text-align: right;\">\n",
       "      <th></th>\n",
       "      <th>y_i</th>\n",
       "      <th>x_i</th>\n",
       "    </tr>\n",
       "  </thead>\n",
       "  <tbody>\n",
       "    <tr>\n",
       "      <th>0</th>\n",
       "      <td>NaN</td>\n",
       "      <td>0</td>\n",
       "    </tr>\n",
       "    <tr>\n",
       "      <th>1</th>\n",
       "      <td>1.0</td>\n",
       "      <td>-1</td>\n",
       "    </tr>\n",
       "    <tr>\n",
       "      <th>2</th>\n",
       "      <td>0.0</td>\n",
       "      <td>-2</td>\n",
       "    </tr>\n",
       "    <tr>\n",
       "      <th>3</th>\n",
       "      <td>-1.0</td>\n",
       "      <td>-3</td>\n",
       "    </tr>\n",
       "    <tr>\n",
       "      <th>4</th>\n",
       "      <td>-2.0</td>\n",
       "      <td>-4</td>\n",
       "    </tr>\n",
       "    <tr>\n",
       "      <th>5</th>\n",
       "      <td>-3.0</td>\n",
       "      <td>-5</td>\n",
       "    </tr>\n",
       "  </tbody>\n",
       "</table>\n",
       "</div>"
      ],
      "text/plain": [
       "   y_i  x_i\n",
       "0  NaN    0\n",
       "1  1.0   -1\n",
       "2  0.0   -2\n",
       "3 -1.0   -3\n",
       "4 -2.0   -4\n",
       "5 -3.0   -5"
      ]
     },
     "execution_count": 37,
     "metadata": {},
     "output_type": "execute_result"
    }
   ],
   "source": [
    "import pandas as pd\n",
    "pd.DataFrame(simulation) # pandas conveniently iterates the results for display"
   ]
  }
 ],
 "metadata": {
  "kernelspec": {
   "display_name": "Python 3 (ipykernel)",
   "language": "python",
   "name": "python3"
  },
  "language_info": {
   "codemirror_mode": {
    "name": "ipython",
    "version": 3
   },
   "file_extension": ".py",
   "mimetype": "text/x-python",
   "name": "python",
   "nbconvert_exporter": "python",
   "pygments_lexer": "ipython3",
   "version": "3.11.5"
  }
 },
 "nbformat": 4,
 "nbformat_minor": 4
}
